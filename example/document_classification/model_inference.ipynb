{
  "nbformat": 4,
  "nbformat_minor": 0,
  "metadata": {
    "colab": {
      "name": "model_inference.ipynb",
      "provenance": [],
      "collapsed_sections": []
    },
    "kernelspec": {
      "name": "python3",
      "display_name": "Python 3"
    },
    "language_info": {
      "name": "python"
    },
    "widgets": {
      "application/vnd.jupyter.widget-state+json": {
        "80b68433536b400f80f7a8040c2560fe": {
          "model_module": "@jupyter-widgets/controls",
          "model_name": "HBoxModel",
          "model_module_version": "1.5.0",
          "state": {
            "_view_name": "HBoxView",
            "_dom_classes": [],
            "_model_name": "HBoxModel",
            "_view_module": "@jupyter-widgets/controls",
            "_model_module_version": "1.5.0",
            "_view_count": null,
            "_view_module_version": "1.5.0",
            "box_style": "",
            "layout": "IPY_MODEL_be593a84e927448a85a5d1afde46df69",
            "_model_module": "@jupyter-widgets/controls",
            "children": [
              "IPY_MODEL_956a79eefa524c9184bd8ba648c6a02d",
              "IPY_MODEL_9794b0a3c9b444f19925856b1a5d757e",
              "IPY_MODEL_47b1f5da70ee4847bd27b4e3235432bc"
            ]
          }
        },
        "be593a84e927448a85a5d1afde46df69": {
          "model_module": "@jupyter-widgets/base",
          "model_name": "LayoutModel",
          "model_module_version": "1.2.0",
          "state": {
            "_view_name": "LayoutView",
            "grid_template_rows": null,
            "right": null,
            "justify_content": null,
            "_view_module": "@jupyter-widgets/base",
            "overflow": null,
            "_model_module_version": "1.2.0",
            "_view_count": null,
            "flex_flow": null,
            "width": null,
            "min_width": null,
            "border": null,
            "align_items": null,
            "bottom": null,
            "_model_module": "@jupyter-widgets/base",
            "top": null,
            "grid_column": null,
            "overflow_y": null,
            "overflow_x": null,
            "grid_auto_flow": null,
            "grid_area": null,
            "grid_template_columns": null,
            "flex": null,
            "_model_name": "LayoutModel",
            "justify_items": null,
            "grid_row": null,
            "max_height": null,
            "align_content": null,
            "visibility": null,
            "align_self": null,
            "height": null,
            "min_height": null,
            "padding": null,
            "grid_auto_rows": null,
            "grid_gap": null,
            "max_width": null,
            "order": null,
            "_view_module_version": "1.2.0",
            "grid_template_areas": null,
            "object_position": null,
            "object_fit": null,
            "grid_auto_columns": null,
            "margin": null,
            "display": null,
            "left": null
          }
        },
        "956a79eefa524c9184bd8ba648c6a02d": {
          "model_module": "@jupyter-widgets/controls",
          "model_name": "HTMLModel",
          "model_module_version": "1.5.0",
          "state": {
            "_view_name": "HTMLView",
            "style": "IPY_MODEL_54e1e5b3e88e452b858d885da06acbba",
            "_dom_classes": [],
            "description": "",
            "_model_name": "HTMLModel",
            "placeholder": "​",
            "_view_module": "@jupyter-widgets/controls",
            "_model_module_version": "1.5.0",
            "value": "Downloading: 100%",
            "_view_count": null,
            "_view_module_version": "1.5.0",
            "description_tooltip": null,
            "_model_module": "@jupyter-widgets/controls",
            "layout": "IPY_MODEL_a5edc7851fe945679ef7ce8afeb26a66"
          }
        },
        "9794b0a3c9b444f19925856b1a5d757e": {
          "model_module": "@jupyter-widgets/controls",
          "model_name": "FloatProgressModel",
          "model_module_version": "1.5.0",
          "state": {
            "_view_name": "ProgressView",
            "style": "IPY_MODEL_5fd4295803f7436281682a4d41e0114f",
            "_dom_classes": [],
            "description": "",
            "_model_name": "FloatProgressModel",
            "bar_style": "success",
            "max": 249928,
            "_view_module": "@jupyter-widgets/controls",
            "_model_module_version": "1.5.0",
            "value": 249928,
            "_view_count": null,
            "_view_module_version": "1.5.0",
            "orientation": "horizontal",
            "min": 0,
            "description_tooltip": null,
            "_model_module": "@jupyter-widgets/controls",
            "layout": "IPY_MODEL_1293ce079bf24e6781e977ba097075e4"
          }
        },
        "47b1f5da70ee4847bd27b4e3235432bc": {
          "model_module": "@jupyter-widgets/controls",
          "model_name": "HTMLModel",
          "model_module_version": "1.5.0",
          "state": {
            "_view_name": "HTMLView",
            "style": "IPY_MODEL_f565a0046f124a78a903f1bf6db75d9a",
            "_dom_classes": [],
            "description": "",
            "_model_name": "HTMLModel",
            "placeholder": "​",
            "_view_module": "@jupyter-widgets/controls",
            "_model_module_version": "1.5.0",
            "value": " 250k/250k [00:00&lt;00:00, 8.72kB/s]",
            "_view_count": null,
            "_view_module_version": "1.5.0",
            "description_tooltip": null,
            "_model_module": "@jupyter-widgets/controls",
            "layout": "IPY_MODEL_043b0c878d8f420786263f5746067742"
          }
        },
        "54e1e5b3e88e452b858d885da06acbba": {
          "model_module": "@jupyter-widgets/controls",
          "model_name": "DescriptionStyleModel",
          "model_module_version": "1.5.0",
          "state": {
            "_view_name": "StyleView",
            "_model_name": "DescriptionStyleModel",
            "description_width": "",
            "_view_module": "@jupyter-widgets/base",
            "_model_module_version": "1.5.0",
            "_view_count": null,
            "_view_module_version": "1.2.0",
            "_model_module": "@jupyter-widgets/controls"
          }
        },
        "a5edc7851fe945679ef7ce8afeb26a66": {
          "model_module": "@jupyter-widgets/base",
          "model_name": "LayoutModel",
          "model_module_version": "1.2.0",
          "state": {
            "_view_name": "LayoutView",
            "grid_template_rows": null,
            "right": null,
            "justify_content": null,
            "_view_module": "@jupyter-widgets/base",
            "overflow": null,
            "_model_module_version": "1.2.0",
            "_view_count": null,
            "flex_flow": null,
            "width": null,
            "min_width": null,
            "border": null,
            "align_items": null,
            "bottom": null,
            "_model_module": "@jupyter-widgets/base",
            "top": null,
            "grid_column": null,
            "overflow_y": null,
            "overflow_x": null,
            "grid_auto_flow": null,
            "grid_area": null,
            "grid_template_columns": null,
            "flex": null,
            "_model_name": "LayoutModel",
            "justify_items": null,
            "grid_row": null,
            "max_height": null,
            "align_content": null,
            "visibility": null,
            "align_self": null,
            "height": null,
            "min_height": null,
            "padding": null,
            "grid_auto_rows": null,
            "grid_gap": null,
            "max_width": null,
            "order": null,
            "_view_module_version": "1.2.0",
            "grid_template_areas": null,
            "object_position": null,
            "object_fit": null,
            "grid_auto_columns": null,
            "margin": null,
            "display": null,
            "left": null
          }
        },
        "5fd4295803f7436281682a4d41e0114f": {
          "model_module": "@jupyter-widgets/controls",
          "model_name": "ProgressStyleModel",
          "model_module_version": "1.5.0",
          "state": {
            "_view_name": "StyleView",
            "_model_name": "ProgressStyleModel",
            "description_width": "",
            "_view_module": "@jupyter-widgets/base",
            "_model_module_version": "1.5.0",
            "_view_count": null,
            "_view_module_version": "1.2.0",
            "bar_color": null,
            "_model_module": "@jupyter-widgets/controls"
          }
        },
        "1293ce079bf24e6781e977ba097075e4": {
          "model_module": "@jupyter-widgets/base",
          "model_name": "LayoutModel",
          "model_module_version": "1.2.0",
          "state": {
            "_view_name": "LayoutView",
            "grid_template_rows": null,
            "right": null,
            "justify_content": null,
            "_view_module": "@jupyter-widgets/base",
            "overflow": null,
            "_model_module_version": "1.2.0",
            "_view_count": null,
            "flex_flow": null,
            "width": null,
            "min_width": null,
            "border": null,
            "align_items": null,
            "bottom": null,
            "_model_module": "@jupyter-widgets/base",
            "top": null,
            "grid_column": null,
            "overflow_y": null,
            "overflow_x": null,
            "grid_auto_flow": null,
            "grid_area": null,
            "grid_template_columns": null,
            "flex": null,
            "_model_name": "LayoutModel",
            "justify_items": null,
            "grid_row": null,
            "max_height": null,
            "align_content": null,
            "visibility": null,
            "align_self": null,
            "height": null,
            "min_height": null,
            "padding": null,
            "grid_auto_rows": null,
            "grid_gap": null,
            "max_width": null,
            "order": null,
            "_view_module_version": "1.2.0",
            "grid_template_areas": null,
            "object_position": null,
            "object_fit": null,
            "grid_auto_columns": null,
            "margin": null,
            "display": null,
            "left": null
          }
        },
        "f565a0046f124a78a903f1bf6db75d9a": {
          "model_module": "@jupyter-widgets/controls",
          "model_name": "DescriptionStyleModel",
          "model_module_version": "1.5.0",
          "state": {
            "_view_name": "StyleView",
            "_model_name": "DescriptionStyleModel",
            "description_width": "",
            "_view_module": "@jupyter-widgets/base",
            "_model_module_version": "1.5.0",
            "_view_count": null,
            "_view_module_version": "1.2.0",
            "_model_module": "@jupyter-widgets/controls"
          }
        },
        "043b0c878d8f420786263f5746067742": {
          "model_module": "@jupyter-widgets/base",
          "model_name": "LayoutModel",
          "model_module_version": "1.2.0",
          "state": {
            "_view_name": "LayoutView",
            "grid_template_rows": null,
            "right": null,
            "justify_content": null,
            "_view_module": "@jupyter-widgets/base",
            "overflow": null,
            "_model_module_version": "1.2.0",
            "_view_count": null,
            "flex_flow": null,
            "width": null,
            "min_width": null,
            "border": null,
            "align_items": null,
            "bottom": null,
            "_model_module": "@jupyter-widgets/base",
            "top": null,
            "grid_column": null,
            "overflow_y": null,
            "overflow_x": null,
            "grid_auto_flow": null,
            "grid_area": null,
            "grid_template_columns": null,
            "flex": null,
            "_model_name": "LayoutModel",
            "justify_items": null,
            "grid_row": null,
            "max_height": null,
            "align_content": null,
            "visibility": null,
            "align_self": null,
            "height": null,
            "min_height": null,
            "padding": null,
            "grid_auto_rows": null,
            "grid_gap": null,
            "max_width": null,
            "order": null,
            "_view_module_version": "1.2.0",
            "grid_template_areas": null,
            "object_position": null,
            "object_fit": null,
            "grid_auto_columns": null,
            "margin": null,
            "display": null,
            "left": null
          }
        },
        "589b5fdf72624f138932f8fcca1fc080": {
          "model_module": "@jupyter-widgets/controls",
          "model_name": "HBoxModel",
          "model_module_version": "1.5.0",
          "state": {
            "_view_name": "HBoxView",
            "_dom_classes": [],
            "_model_name": "HBoxModel",
            "_view_module": "@jupyter-widgets/controls",
            "_model_module_version": "1.5.0",
            "_view_count": null,
            "_view_module_version": "1.5.0",
            "box_style": "",
            "layout": "IPY_MODEL_1bdf0e35bb0e498b87603b34283bb9bd",
            "_model_module": "@jupyter-widgets/controls",
            "children": [
              "IPY_MODEL_9a9ebdd2eb6f47de9e48b97f58cce1a7",
              "IPY_MODEL_3e60e3abf1fc4454ae0a2b473fd6d7fd",
              "IPY_MODEL_4b0bbf916be14963bbcefd551c734c4a"
            ]
          }
        },
        "1bdf0e35bb0e498b87603b34283bb9bd": {
          "model_module": "@jupyter-widgets/base",
          "model_name": "LayoutModel",
          "model_module_version": "1.2.0",
          "state": {
            "_view_name": "LayoutView",
            "grid_template_rows": null,
            "right": null,
            "justify_content": null,
            "_view_module": "@jupyter-widgets/base",
            "overflow": null,
            "_model_module_version": "1.2.0",
            "_view_count": null,
            "flex_flow": null,
            "width": null,
            "min_width": null,
            "border": null,
            "align_items": null,
            "bottom": null,
            "_model_module": "@jupyter-widgets/base",
            "top": null,
            "grid_column": null,
            "overflow_y": null,
            "overflow_x": null,
            "grid_auto_flow": null,
            "grid_area": null,
            "grid_template_columns": null,
            "flex": null,
            "_model_name": "LayoutModel",
            "justify_items": null,
            "grid_row": null,
            "max_height": null,
            "align_content": null,
            "visibility": null,
            "align_self": null,
            "height": null,
            "min_height": null,
            "padding": null,
            "grid_auto_rows": null,
            "grid_gap": null,
            "max_width": null,
            "order": null,
            "_view_module_version": "1.2.0",
            "grid_template_areas": null,
            "object_position": null,
            "object_fit": null,
            "grid_auto_columns": null,
            "margin": null,
            "display": null,
            "left": null
          }
        },
        "9a9ebdd2eb6f47de9e48b97f58cce1a7": {
          "model_module": "@jupyter-widgets/controls",
          "model_name": "HTMLModel",
          "model_module_version": "1.5.0",
          "state": {
            "_view_name": "HTMLView",
            "style": "IPY_MODEL_14d22873633c43ee89958133328b6232",
            "_dom_classes": [],
            "description": "",
            "_model_name": "HTMLModel",
            "placeholder": "​",
            "_view_module": "@jupyter-widgets/controls",
            "_model_module_version": "1.5.0",
            "value": "Downloading: 100%",
            "_view_count": null,
            "_view_module_version": "1.5.0",
            "description_tooltip": null,
            "_model_module": "@jupyter-widgets/controls",
            "layout": "IPY_MODEL_d3044a577cea48e5947cddb638412829"
          }
        },
        "3e60e3abf1fc4454ae0a2b473fd6d7fd": {
          "model_module": "@jupyter-widgets/controls",
          "model_name": "FloatProgressModel",
          "model_module_version": "1.5.0",
          "state": {
            "_view_name": "ProgressView",
            "style": "IPY_MODEL_d4875d5823bb4e89b1d3f9ff45307be3",
            "_dom_classes": [],
            "description": "",
            "_model_name": "FloatProgressModel",
            "bar_style": "success",
            "max": 49,
            "_view_module": "@jupyter-widgets/controls",
            "_model_module_version": "1.5.0",
            "value": 49,
            "_view_count": null,
            "_view_module_version": "1.5.0",
            "orientation": "horizontal",
            "min": 0,
            "description_tooltip": null,
            "_model_module": "@jupyter-widgets/controls",
            "layout": "IPY_MODEL_e085232e72b745e39717cbadcf3197b9"
          }
        },
        "4b0bbf916be14963bbcefd551c734c4a": {
          "model_module": "@jupyter-widgets/controls",
          "model_name": "HTMLModel",
          "model_module_version": "1.5.0",
          "state": {
            "_view_name": "HTMLView",
            "style": "IPY_MODEL_e797038a79634ebcb1c360888e8605de",
            "_dom_classes": [],
            "description": "",
            "_model_name": "HTMLModel",
            "placeholder": "​",
            "_view_module": "@jupyter-widgets/controls",
            "_model_module_version": "1.5.0",
            "value": " 49.0/49.0 [00:00&lt;00:00, 407B/s]",
            "_view_count": null,
            "_view_module_version": "1.5.0",
            "description_tooltip": null,
            "_model_module": "@jupyter-widgets/controls",
            "layout": "IPY_MODEL_7e589466b9b64b4f80818d9f629bb01c"
          }
        },
        "14d22873633c43ee89958133328b6232": {
          "model_module": "@jupyter-widgets/controls",
          "model_name": "DescriptionStyleModel",
          "model_module_version": "1.5.0",
          "state": {
            "_view_name": "StyleView",
            "_model_name": "DescriptionStyleModel",
            "description_width": "",
            "_view_module": "@jupyter-widgets/base",
            "_model_module_version": "1.5.0",
            "_view_count": null,
            "_view_module_version": "1.2.0",
            "_model_module": "@jupyter-widgets/controls"
          }
        },
        "d3044a577cea48e5947cddb638412829": {
          "model_module": "@jupyter-widgets/base",
          "model_name": "LayoutModel",
          "model_module_version": "1.2.0",
          "state": {
            "_view_name": "LayoutView",
            "grid_template_rows": null,
            "right": null,
            "justify_content": null,
            "_view_module": "@jupyter-widgets/base",
            "overflow": null,
            "_model_module_version": "1.2.0",
            "_view_count": null,
            "flex_flow": null,
            "width": null,
            "min_width": null,
            "border": null,
            "align_items": null,
            "bottom": null,
            "_model_module": "@jupyter-widgets/base",
            "top": null,
            "grid_column": null,
            "overflow_y": null,
            "overflow_x": null,
            "grid_auto_flow": null,
            "grid_area": null,
            "grid_template_columns": null,
            "flex": null,
            "_model_name": "LayoutModel",
            "justify_items": null,
            "grid_row": null,
            "max_height": null,
            "align_content": null,
            "visibility": null,
            "align_self": null,
            "height": null,
            "min_height": null,
            "padding": null,
            "grid_auto_rows": null,
            "grid_gap": null,
            "max_width": null,
            "order": null,
            "_view_module_version": "1.2.0",
            "grid_template_areas": null,
            "object_position": null,
            "object_fit": null,
            "grid_auto_columns": null,
            "margin": null,
            "display": null,
            "left": null
          }
        },
        "d4875d5823bb4e89b1d3f9ff45307be3": {
          "model_module": "@jupyter-widgets/controls",
          "model_name": "ProgressStyleModel",
          "model_module_version": "1.5.0",
          "state": {
            "_view_name": "StyleView",
            "_model_name": "ProgressStyleModel",
            "description_width": "",
            "_view_module": "@jupyter-widgets/base",
            "_model_module_version": "1.5.0",
            "_view_count": null,
            "_view_module_version": "1.2.0",
            "bar_color": null,
            "_model_module": "@jupyter-widgets/controls"
          }
        },
        "e085232e72b745e39717cbadcf3197b9": {
          "model_module": "@jupyter-widgets/base",
          "model_name": "LayoutModel",
          "model_module_version": "1.2.0",
          "state": {
            "_view_name": "LayoutView",
            "grid_template_rows": null,
            "right": null,
            "justify_content": null,
            "_view_module": "@jupyter-widgets/base",
            "overflow": null,
            "_model_module_version": "1.2.0",
            "_view_count": null,
            "flex_flow": null,
            "width": null,
            "min_width": null,
            "border": null,
            "align_items": null,
            "bottom": null,
            "_model_module": "@jupyter-widgets/base",
            "top": null,
            "grid_column": null,
            "overflow_y": null,
            "overflow_x": null,
            "grid_auto_flow": null,
            "grid_area": null,
            "grid_template_columns": null,
            "flex": null,
            "_model_name": "LayoutModel",
            "justify_items": null,
            "grid_row": null,
            "max_height": null,
            "align_content": null,
            "visibility": null,
            "align_self": null,
            "height": null,
            "min_height": null,
            "padding": null,
            "grid_auto_rows": null,
            "grid_gap": null,
            "max_width": null,
            "order": null,
            "_view_module_version": "1.2.0",
            "grid_template_areas": null,
            "object_position": null,
            "object_fit": null,
            "grid_auto_columns": null,
            "margin": null,
            "display": null,
            "left": null
          }
        },
        "e797038a79634ebcb1c360888e8605de": {
          "model_module": "@jupyter-widgets/controls",
          "model_name": "DescriptionStyleModel",
          "model_module_version": "1.5.0",
          "state": {
            "_view_name": "StyleView",
            "_model_name": "DescriptionStyleModel",
            "description_width": "",
            "_view_module": "@jupyter-widgets/base",
            "_model_module_version": "1.5.0",
            "_view_count": null,
            "_view_module_version": "1.2.0",
            "_model_module": "@jupyter-widgets/controls"
          }
        },
        "7e589466b9b64b4f80818d9f629bb01c": {
          "model_module": "@jupyter-widgets/base",
          "model_name": "LayoutModel",
          "model_module_version": "1.2.0",
          "state": {
            "_view_name": "LayoutView",
            "grid_template_rows": null,
            "right": null,
            "justify_content": null,
            "_view_module": "@jupyter-widgets/base",
            "overflow": null,
            "_model_module_version": "1.2.0",
            "_view_count": null,
            "flex_flow": null,
            "width": null,
            "min_width": null,
            "border": null,
            "align_items": null,
            "bottom": null,
            "_model_module": "@jupyter-widgets/base",
            "top": null,
            "grid_column": null,
            "overflow_y": null,
            "overflow_x": null,
            "grid_auto_flow": null,
            "grid_area": null,
            "grid_template_columns": null,
            "flex": null,
            "_model_name": "LayoutModel",
            "justify_items": null,
            "grid_row": null,
            "max_height": null,
            "align_content": null,
            "visibility": null,
            "align_self": null,
            "height": null,
            "min_height": null,
            "padding": null,
            "grid_auto_rows": null,
            "grid_gap": null,
            "max_width": null,
            "order": null,
            "_view_module_version": "1.2.0",
            "grid_template_areas": null,
            "object_position": null,
            "object_fit": null,
            "grid_auto_columns": null,
            "margin": null,
            "display": null,
            "left": null
          }
        },
        "6711d8a8156b4827acdde207f4923a39": {
          "model_module": "@jupyter-widgets/controls",
          "model_name": "HBoxModel",
          "model_module_version": "1.5.0",
          "state": {
            "_view_name": "HBoxView",
            "_dom_classes": [],
            "_model_name": "HBoxModel",
            "_view_module": "@jupyter-widgets/controls",
            "_model_module_version": "1.5.0",
            "_view_count": null,
            "_view_module_version": "1.5.0",
            "box_style": "",
            "layout": "IPY_MODEL_13667804206e468e87b221820daac1e7",
            "_model_module": "@jupyter-widgets/controls",
            "children": [
              "IPY_MODEL_7256b4742b0949cf928a162e75d272d0",
              "IPY_MODEL_1a3f674caef8479080d9a9f3a6463444",
              "IPY_MODEL_96ea3d152b054cd4a6f42928c71e8202"
            ]
          }
        },
        "13667804206e468e87b221820daac1e7": {
          "model_module": "@jupyter-widgets/base",
          "model_name": "LayoutModel",
          "model_module_version": "1.2.0",
          "state": {
            "_view_name": "LayoutView",
            "grid_template_rows": null,
            "right": null,
            "justify_content": null,
            "_view_module": "@jupyter-widgets/base",
            "overflow": null,
            "_model_module_version": "1.2.0",
            "_view_count": null,
            "flex_flow": null,
            "width": null,
            "min_width": null,
            "border": null,
            "align_items": null,
            "bottom": null,
            "_model_module": "@jupyter-widgets/base",
            "top": null,
            "grid_column": null,
            "overflow_y": null,
            "overflow_x": null,
            "grid_auto_flow": null,
            "grid_area": null,
            "grid_template_columns": null,
            "flex": null,
            "_model_name": "LayoutModel",
            "justify_items": null,
            "grid_row": null,
            "max_height": null,
            "align_content": null,
            "visibility": null,
            "align_self": null,
            "height": null,
            "min_height": null,
            "padding": null,
            "grid_auto_rows": null,
            "grid_gap": null,
            "max_width": null,
            "order": null,
            "_view_module_version": "1.2.0",
            "grid_template_areas": null,
            "object_position": null,
            "object_fit": null,
            "grid_auto_columns": null,
            "margin": null,
            "display": null,
            "left": null
          }
        },
        "7256b4742b0949cf928a162e75d272d0": {
          "model_module": "@jupyter-widgets/controls",
          "model_name": "HTMLModel",
          "model_module_version": "1.5.0",
          "state": {
            "_view_name": "HTMLView",
            "style": "IPY_MODEL_e775bd4a2e3440698230131feab71c72",
            "_dom_classes": [],
            "description": "",
            "_model_name": "HTMLModel",
            "placeholder": "​",
            "_view_module": "@jupyter-widgets/controls",
            "_model_module_version": "1.5.0",
            "value": "Downloading: 100%",
            "_view_count": null,
            "_view_module_version": "1.5.0",
            "description_tooltip": null,
            "_model_module": "@jupyter-widgets/controls",
            "layout": "IPY_MODEL_23a622ac7a144097a68e2c1dc914d74e"
          }
        },
        "1a3f674caef8479080d9a9f3a6463444": {
          "model_module": "@jupyter-widgets/controls",
          "model_name": "FloatProgressModel",
          "model_module_version": "1.5.0",
          "state": {
            "_view_name": "ProgressView",
            "style": "IPY_MODEL_6e9e730ed3004b24abbda6f95518b44b",
            "_dom_classes": [],
            "description": "",
            "_model_name": "FloatProgressModel",
            "bar_style": "success",
            "max": 619,
            "_view_module": "@jupyter-widgets/controls",
            "_model_module_version": "1.5.0",
            "value": 619,
            "_view_count": null,
            "_view_module_version": "1.5.0",
            "orientation": "horizontal",
            "min": 0,
            "description_tooltip": null,
            "_model_module": "@jupyter-widgets/controls",
            "layout": "IPY_MODEL_ef5b41a95fa6470f8999e5e8fba7aeeb"
          }
        },
        "96ea3d152b054cd4a6f42928c71e8202": {
          "model_module": "@jupyter-widgets/controls",
          "model_name": "HTMLModel",
          "model_module_version": "1.5.0",
          "state": {
            "_view_name": "HTMLView",
            "style": "IPY_MODEL_ec4185365a6e47209b5a1c30d7076e3d",
            "_dom_classes": [],
            "description": "",
            "_model_name": "HTMLModel",
            "placeholder": "​",
            "_view_module": "@jupyter-widgets/controls",
            "_model_module_version": "1.5.0",
            "value": " 619/619 [00:00&lt;00:00, 9.71kB/s]",
            "_view_count": null,
            "_view_module_version": "1.5.0",
            "description_tooltip": null,
            "_model_module": "@jupyter-widgets/controls",
            "layout": "IPY_MODEL_f6eebeb8d24944218b521340277eeb99"
          }
        },
        "e775bd4a2e3440698230131feab71c72": {
          "model_module": "@jupyter-widgets/controls",
          "model_name": "DescriptionStyleModel",
          "model_module_version": "1.5.0",
          "state": {
            "_view_name": "StyleView",
            "_model_name": "DescriptionStyleModel",
            "description_width": "",
            "_view_module": "@jupyter-widgets/base",
            "_model_module_version": "1.5.0",
            "_view_count": null,
            "_view_module_version": "1.2.0",
            "_model_module": "@jupyter-widgets/controls"
          }
        },
        "23a622ac7a144097a68e2c1dc914d74e": {
          "model_module": "@jupyter-widgets/base",
          "model_name": "LayoutModel",
          "model_module_version": "1.2.0",
          "state": {
            "_view_name": "LayoutView",
            "grid_template_rows": null,
            "right": null,
            "justify_content": null,
            "_view_module": "@jupyter-widgets/base",
            "overflow": null,
            "_model_module_version": "1.2.0",
            "_view_count": null,
            "flex_flow": null,
            "width": null,
            "min_width": null,
            "border": null,
            "align_items": null,
            "bottom": null,
            "_model_module": "@jupyter-widgets/base",
            "top": null,
            "grid_column": null,
            "overflow_y": null,
            "overflow_x": null,
            "grid_auto_flow": null,
            "grid_area": null,
            "grid_template_columns": null,
            "flex": null,
            "_model_name": "LayoutModel",
            "justify_items": null,
            "grid_row": null,
            "max_height": null,
            "align_content": null,
            "visibility": null,
            "align_self": null,
            "height": null,
            "min_height": null,
            "padding": null,
            "grid_auto_rows": null,
            "grid_gap": null,
            "max_width": null,
            "order": null,
            "_view_module_version": "1.2.0",
            "grid_template_areas": null,
            "object_position": null,
            "object_fit": null,
            "grid_auto_columns": null,
            "margin": null,
            "display": null,
            "left": null
          }
        },
        "6e9e730ed3004b24abbda6f95518b44b": {
          "model_module": "@jupyter-widgets/controls",
          "model_name": "ProgressStyleModel",
          "model_module_version": "1.5.0",
          "state": {
            "_view_name": "StyleView",
            "_model_name": "ProgressStyleModel",
            "description_width": "",
            "_view_module": "@jupyter-widgets/base",
            "_model_module_version": "1.5.0",
            "_view_count": null,
            "_view_module_version": "1.2.0",
            "bar_color": null,
            "_model_module": "@jupyter-widgets/controls"
          }
        },
        "ef5b41a95fa6470f8999e5e8fba7aeeb": {
          "model_module": "@jupyter-widgets/base",
          "model_name": "LayoutModel",
          "model_module_version": "1.2.0",
          "state": {
            "_view_name": "LayoutView",
            "grid_template_rows": null,
            "right": null,
            "justify_content": null,
            "_view_module": "@jupyter-widgets/base",
            "overflow": null,
            "_model_module_version": "1.2.0",
            "_view_count": null,
            "flex_flow": null,
            "width": null,
            "min_width": null,
            "border": null,
            "align_items": null,
            "bottom": null,
            "_model_module": "@jupyter-widgets/base",
            "top": null,
            "grid_column": null,
            "overflow_y": null,
            "overflow_x": null,
            "grid_auto_flow": null,
            "grid_area": null,
            "grid_template_columns": null,
            "flex": null,
            "_model_name": "LayoutModel",
            "justify_items": null,
            "grid_row": null,
            "max_height": null,
            "align_content": null,
            "visibility": null,
            "align_self": null,
            "height": null,
            "min_height": null,
            "padding": null,
            "grid_auto_rows": null,
            "grid_gap": null,
            "max_width": null,
            "order": null,
            "_view_module_version": "1.2.0",
            "grid_template_areas": null,
            "object_position": null,
            "object_fit": null,
            "grid_auto_columns": null,
            "margin": null,
            "display": null,
            "left": null
          }
        },
        "ec4185365a6e47209b5a1c30d7076e3d": {
          "model_module": "@jupyter-widgets/controls",
          "model_name": "DescriptionStyleModel",
          "model_module_version": "1.5.0",
          "state": {
            "_view_name": "StyleView",
            "_model_name": "DescriptionStyleModel",
            "description_width": "",
            "_view_module": "@jupyter-widgets/base",
            "_model_module_version": "1.5.0",
            "_view_count": null,
            "_view_module_version": "1.2.0",
            "_model_module": "@jupyter-widgets/controls"
          }
        },
        "f6eebeb8d24944218b521340277eeb99": {
          "model_module": "@jupyter-widgets/base",
          "model_name": "LayoutModel",
          "model_module_version": "1.2.0",
          "state": {
            "_view_name": "LayoutView",
            "grid_template_rows": null,
            "right": null,
            "justify_content": null,
            "_view_module": "@jupyter-widgets/base",
            "overflow": null,
            "_model_module_version": "1.2.0",
            "_view_count": null,
            "flex_flow": null,
            "width": null,
            "min_width": null,
            "border": null,
            "align_items": null,
            "bottom": null,
            "_model_module": "@jupyter-widgets/base",
            "top": null,
            "grid_column": null,
            "overflow_y": null,
            "overflow_x": null,
            "grid_auto_flow": null,
            "grid_area": null,
            "grid_template_columns": null,
            "flex": null,
            "_model_name": "LayoutModel",
            "justify_items": null,
            "grid_row": null,
            "max_height": null,
            "align_content": null,
            "visibility": null,
            "align_self": null,
            "height": null,
            "min_height": null,
            "padding": null,
            "grid_auto_rows": null,
            "grid_gap": null,
            "max_width": null,
            "order": null,
            "_view_module_version": "1.2.0",
            "grid_template_areas": null,
            "object_position": null,
            "object_fit": null,
            "grid_auto_columns": null,
            "margin": null,
            "display": null,
            "left": null
          }
        }
      }
    }
  },
  "cells": [
    {
      "cell_type": "markdown",
      "source": [
        "\n",
        "본 파일은 이기창님의 'Do it! 자연어 처리'에 기초하여 작성되었음을 미리 알려드립니다! :)"
      ],
      "metadata": {
        "id": "6C6DtyfJUnex"
      }
    },
    {
      "cell_type": "markdown",
      "source": [
        "# 학습 마친 모델을 실전 투입하기"
      ],
      "metadata": {
        "id": "oKMFDTPTUqqw"
      }
    },
    {
      "cell_type": "markdown",
      "source": [
        "이번 실습에서는 **학습을 마친 문서 분류 모델을 가지고 웹 서비스를 만든다**.\n",
        "\n",
        "문장을 받아 해당 문장이 긍정인지 부정인지 답변하는 웹 서비스로, 문장을 토큰화한 뒤 모델 입력값으로 만들고 이를 모델에 입력해 [*해당 문장이 긍정일 확률, 해당 문장이 부정일 확률* ]을 계산하게 만든다. 이후 약간의 후처리 과정을 거쳐 응답하게 만드는 방식이다.\n",
        "\n",
        "웹 서비스란 네트워크에서 컴퓨터 간에 상호작용을 하기 위해 만들어진 소프트웨어 시스템이다. 본 노트에서는 원격 사용자가 보낸 문장을 수신해 해당 문장이 긍정인지 부정인지 응답을 만들고 이 응답을 원격 사용자에게 전달하는 웹 서비스를 만드는 것이다."
      ],
      "metadata": {
        "id": "ess9IcqEU0MV"
      }
    },
    {
      "cell_type": "markdown",
      "source": [
        "## 1. 환경 설정하기"
      ],
      "metadata": {
        "id": "FSYyY_KLUvDe"
      }
    },
    {
      "cell_type": "markdown",
      "source": [
        "### 의존성 패키지 설치"
      ],
      "metadata": {
        "id": "ZJWkFVEkV795"
      }
    },
    {
      "cell_type": "markdown",
      "source": [
        "pip 명령어를 통해 의존성 있는 패키지를 설치한다."
      ],
      "metadata": {
        "id": "1IDVeN4TWAF1"
      }
    },
    {
      "cell_type": "markdown",
      "source": [
        "#### code 2-0"
      ],
      "metadata": {
        "id": "YiAOOblIWE-X"
      }
    },
    {
      "cell_type": "code",
      "execution_count": 1,
      "metadata": {
        "colab": {
          "base_uri": "https://localhost:8080/"
        },
        "id": "jgqmQjFRUagy",
        "outputId": "376d92e3-9b70-4168-96fa-62b7369feb2d"
      },
      "outputs": [
        {
          "output_type": "stream",
          "name": "stdout",
          "text": [
            "Requirement already satisfied: ratsnlp in /usr/local/lib/python3.7/dist-packages (1.0.1)\n",
            "Requirement already satisfied: transformers==4.10.0 in /usr/local/lib/python3.7/dist-packages (from ratsnlp) (4.10.0)\n",
            "Requirement already satisfied: Korpora>=0.2.0 in /usr/local/lib/python3.7/dist-packages (from ratsnlp) (0.2.0)\n",
            "Requirement already satisfied: pytorch-lightning==1.3.4 in /usr/local/lib/python3.7/dist-packages (from ratsnlp) (1.3.4)\n",
            "Requirement already satisfied: flask-ngrok>=0.0.25 in /usr/local/lib/python3.7/dist-packages (from ratsnlp) (0.0.25)\n",
            "Requirement already satisfied: torch>=1.9.0 in /usr/local/lib/python3.7/dist-packages (from ratsnlp) (1.10.0+cu111)\n",
            "Requirement already satisfied: flask>=1.1.4 in /usr/local/lib/python3.7/dist-packages (from ratsnlp) (1.1.4)\n",
            "Requirement already satisfied: flask-cors>=3.0.10 in /usr/local/lib/python3.7/dist-packages (from ratsnlp) (3.0.10)\n",
            "Requirement already satisfied: fsspec[http]>=2021.4.0 in /usr/local/lib/python3.7/dist-packages (from pytorch-lightning==1.3.4->ratsnlp) (2022.2.0)\n",
            "Requirement already satisfied: packaging in /usr/local/lib/python3.7/dist-packages (from pytorch-lightning==1.3.4->ratsnlp) (21.3)\n",
            "Requirement already satisfied: pyDeprecate==0.3.0 in /usr/local/lib/python3.7/dist-packages (from pytorch-lightning==1.3.4->ratsnlp) (0.3.0)\n",
            "Requirement already satisfied: tensorboard!=2.5.0,>=2.2.0 in /usr/local/lib/python3.7/dist-packages (from pytorch-lightning==1.3.4->ratsnlp) (2.8.0)\n",
            "Requirement already satisfied: PyYAML<=5.4.1,>=5.1 in /usr/local/lib/python3.7/dist-packages (from pytorch-lightning==1.3.4->ratsnlp) (5.4.1)\n",
            "Requirement already satisfied: torchmetrics>=0.2.0 in /usr/local/lib/python3.7/dist-packages (from pytorch-lightning==1.3.4->ratsnlp) (0.7.2)\n",
            "Requirement already satisfied: tqdm>=4.41.0 in /usr/local/lib/python3.7/dist-packages (from pytorch-lightning==1.3.4->ratsnlp) (4.62.3)\n",
            "Requirement already satisfied: future>=0.17.1 in /usr/local/lib/python3.7/dist-packages (from pytorch-lightning==1.3.4->ratsnlp) (0.18.2)\n",
            "Requirement already satisfied: numpy>=1.17.2 in /usr/local/lib/python3.7/dist-packages (from pytorch-lightning==1.3.4->ratsnlp) (1.21.5)\n",
            "Requirement already satisfied: requests in /usr/local/lib/python3.7/dist-packages (from transformers==4.10.0->ratsnlp) (2.23.0)\n",
            "Requirement already satisfied: huggingface-hub>=0.0.12 in /usr/local/lib/python3.7/dist-packages (from transformers==4.10.0->ratsnlp) (0.4.0)\n",
            "Requirement already satisfied: sacremoses in /usr/local/lib/python3.7/dist-packages (from transformers==4.10.0->ratsnlp) (0.0.47)\n",
            "Requirement already satisfied: importlib-metadata in /usr/local/lib/python3.7/dist-packages (from transformers==4.10.0->ratsnlp) (4.11.1)\n",
            "Requirement already satisfied: regex!=2019.12.17 in /usr/local/lib/python3.7/dist-packages (from transformers==4.10.0->ratsnlp) (2019.12.20)\n",
            "Requirement already satisfied: filelock in /usr/local/lib/python3.7/dist-packages (from transformers==4.10.0->ratsnlp) (3.6.0)\n",
            "Requirement already satisfied: tokenizers<0.11,>=0.10.1 in /usr/local/lib/python3.7/dist-packages (from transformers==4.10.0->ratsnlp) (0.10.3)\n",
            "Requirement already satisfied: click<8.0,>=5.1 in /usr/local/lib/python3.7/dist-packages (from flask>=1.1.4->ratsnlp) (7.1.2)\n",
            "Requirement already satisfied: itsdangerous<2.0,>=0.24 in /usr/local/lib/python3.7/dist-packages (from flask>=1.1.4->ratsnlp) (1.1.0)\n",
            "Requirement already satisfied: Jinja2<3.0,>=2.10.1 in /usr/local/lib/python3.7/dist-packages (from flask>=1.1.4->ratsnlp) (2.11.3)\n",
            "Requirement already satisfied: Werkzeug<2.0,>=0.15 in /usr/local/lib/python3.7/dist-packages (from flask>=1.1.4->ratsnlp) (1.0.1)\n",
            "Requirement already satisfied: Six in /usr/local/lib/python3.7/dist-packages (from flask-cors>=3.0.10->ratsnlp) (1.15.0)\n",
            "Requirement already satisfied: aiohttp in /usr/local/lib/python3.7/dist-packages (from fsspec[http]>=2021.4.0->pytorch-lightning==1.3.4->ratsnlp) (3.8.1)\n",
            "Requirement already satisfied: typing-extensions>=3.7.4.3 in /usr/local/lib/python3.7/dist-packages (from huggingface-hub>=0.0.12->transformers==4.10.0->ratsnlp) (3.10.0.2)\n",
            "Requirement already satisfied: MarkupSafe>=0.23 in /usr/local/lib/python3.7/dist-packages (from Jinja2<3.0,>=2.10.1->flask>=1.1.4->ratsnlp) (2.0.1)\n",
            "Requirement already satisfied: dataclasses>=0.6 in /usr/local/lib/python3.7/dist-packages (from Korpora>=0.2.0->ratsnlp) (0.6)\n",
            "Requirement already satisfied: xlrd>=1.2.0 in /usr/local/lib/python3.7/dist-packages (from Korpora>=0.2.0->ratsnlp) (2.0.1)\n",
            "Requirement already satisfied: pyparsing!=3.0.5,>=2.0.2 in /usr/local/lib/python3.7/dist-packages (from packaging->pytorch-lightning==1.3.4->ratsnlp) (3.0.7)\n",
            "Requirement already satisfied: certifi>=2017.4.17 in /usr/local/lib/python3.7/dist-packages (from requests->transformers==4.10.0->ratsnlp) (2021.10.8)\n",
            "Requirement already satisfied: chardet<4,>=3.0.2 in /usr/local/lib/python3.7/dist-packages (from requests->transformers==4.10.0->ratsnlp) (3.0.4)\n",
            "Requirement already satisfied: idna<3,>=2.5 in /usr/local/lib/python3.7/dist-packages (from requests->transformers==4.10.0->ratsnlp) (2.10)\n",
            "Requirement already satisfied: urllib3!=1.25.0,!=1.25.1,<1.26,>=1.21.1 in /usr/local/lib/python3.7/dist-packages (from requests->transformers==4.10.0->ratsnlp) (1.24.3)\n",
            "Requirement already satisfied: google-auth-oauthlib<0.5,>=0.4.1 in /usr/local/lib/python3.7/dist-packages (from tensorboard!=2.5.0,>=2.2.0->pytorch-lightning==1.3.4->ratsnlp) (0.4.6)\n",
            "Requirement already satisfied: google-auth<3,>=1.6.3 in /usr/local/lib/python3.7/dist-packages (from tensorboard!=2.5.0,>=2.2.0->pytorch-lightning==1.3.4->ratsnlp) (1.35.0)\n",
            "Requirement already satisfied: grpcio>=1.24.3 in /usr/local/lib/python3.7/dist-packages (from tensorboard!=2.5.0,>=2.2.0->pytorch-lightning==1.3.4->ratsnlp) (1.43.0)\n",
            "Requirement already satisfied: protobuf>=3.6.0 in /usr/local/lib/python3.7/dist-packages (from tensorboard!=2.5.0,>=2.2.0->pytorch-lightning==1.3.4->ratsnlp) (3.17.3)\n",
            "Requirement already satisfied: wheel>=0.26 in /usr/local/lib/python3.7/dist-packages (from tensorboard!=2.5.0,>=2.2.0->pytorch-lightning==1.3.4->ratsnlp) (0.37.1)\n",
            "Requirement already satisfied: setuptools>=41.0.0 in /usr/local/lib/python3.7/dist-packages (from tensorboard!=2.5.0,>=2.2.0->pytorch-lightning==1.3.4->ratsnlp) (57.4.0)\n",
            "Requirement already satisfied: absl-py>=0.4 in /usr/local/lib/python3.7/dist-packages (from tensorboard!=2.5.0,>=2.2.0->pytorch-lightning==1.3.4->ratsnlp) (1.0.0)\n",
            "Requirement already satisfied: markdown>=2.6.8 in /usr/local/lib/python3.7/dist-packages (from tensorboard!=2.5.0,>=2.2.0->pytorch-lightning==1.3.4->ratsnlp) (3.3.6)\n",
            "Requirement already satisfied: tensorboard-data-server<0.7.0,>=0.6.0 in /usr/local/lib/python3.7/dist-packages (from tensorboard!=2.5.0,>=2.2.0->pytorch-lightning==1.3.4->ratsnlp) (0.6.1)\n",
            "Requirement already satisfied: tensorboard-plugin-wit>=1.6.0 in /usr/local/lib/python3.7/dist-packages (from tensorboard!=2.5.0,>=2.2.0->pytorch-lightning==1.3.4->ratsnlp) (1.8.1)\n",
            "Requirement already satisfied: cachetools<5.0,>=2.0.0 in /usr/local/lib/python3.7/dist-packages (from google-auth<3,>=1.6.3->tensorboard!=2.5.0,>=2.2.0->pytorch-lightning==1.3.4->ratsnlp) (4.2.4)\n",
            "Requirement already satisfied: rsa<5,>=3.1.4 in /usr/local/lib/python3.7/dist-packages (from google-auth<3,>=1.6.3->tensorboard!=2.5.0,>=2.2.0->pytorch-lightning==1.3.4->ratsnlp) (4.8)\n",
            "Requirement already satisfied: pyasn1-modules>=0.2.1 in /usr/local/lib/python3.7/dist-packages (from google-auth<3,>=1.6.3->tensorboard!=2.5.0,>=2.2.0->pytorch-lightning==1.3.4->ratsnlp) (0.2.8)\n",
            "Requirement already satisfied: requests-oauthlib>=0.7.0 in /usr/local/lib/python3.7/dist-packages (from google-auth-oauthlib<0.5,>=0.4.1->tensorboard!=2.5.0,>=2.2.0->pytorch-lightning==1.3.4->ratsnlp) (1.3.1)\n",
            "Requirement already satisfied: zipp>=0.5 in /usr/local/lib/python3.7/dist-packages (from importlib-metadata->transformers==4.10.0->ratsnlp) (3.7.0)\n",
            "Requirement already satisfied: pyasn1<0.5.0,>=0.4.6 in /usr/local/lib/python3.7/dist-packages (from pyasn1-modules>=0.2.1->google-auth<3,>=1.6.3->tensorboard!=2.5.0,>=2.2.0->pytorch-lightning==1.3.4->ratsnlp) (0.4.8)\n",
            "Requirement already satisfied: oauthlib>=3.0.0 in /usr/local/lib/python3.7/dist-packages (from requests-oauthlib>=0.7.0->google-auth-oauthlib<0.5,>=0.4.1->tensorboard!=2.5.0,>=2.2.0->pytorch-lightning==1.3.4->ratsnlp) (3.2.0)\n",
            "Requirement already satisfied: attrs>=17.3.0 in /usr/local/lib/python3.7/dist-packages (from aiohttp->fsspec[http]>=2021.4.0->pytorch-lightning==1.3.4->ratsnlp) (21.4.0)\n",
            "Requirement already satisfied: aiosignal>=1.1.2 in /usr/local/lib/python3.7/dist-packages (from aiohttp->fsspec[http]>=2021.4.0->pytorch-lightning==1.3.4->ratsnlp) (1.2.0)\n",
            "Requirement already satisfied: yarl<2.0,>=1.0 in /usr/local/lib/python3.7/dist-packages (from aiohttp->fsspec[http]>=2021.4.0->pytorch-lightning==1.3.4->ratsnlp) (1.7.2)\n",
            "Requirement already satisfied: asynctest==0.13.0 in /usr/local/lib/python3.7/dist-packages (from aiohttp->fsspec[http]>=2021.4.0->pytorch-lightning==1.3.4->ratsnlp) (0.13.0)\n",
            "Requirement already satisfied: multidict<7.0,>=4.5 in /usr/local/lib/python3.7/dist-packages (from aiohttp->fsspec[http]>=2021.4.0->pytorch-lightning==1.3.4->ratsnlp) (6.0.2)\n",
            "Requirement already satisfied: frozenlist>=1.1.1 in /usr/local/lib/python3.7/dist-packages (from aiohttp->fsspec[http]>=2021.4.0->pytorch-lightning==1.3.4->ratsnlp) (1.3.0)\n",
            "Requirement already satisfied: charset-normalizer<3.0,>=2.0 in /usr/local/lib/python3.7/dist-packages (from aiohttp->fsspec[http]>=2021.4.0->pytorch-lightning==1.3.4->ratsnlp) (2.0.12)\n",
            "Requirement already satisfied: async-timeout<5.0,>=4.0.0a3 in /usr/local/lib/python3.7/dist-packages (from aiohttp->fsspec[http]>=2021.4.0->pytorch-lightning==1.3.4->ratsnlp) (4.0.2)\n",
            "Requirement already satisfied: joblib in /usr/local/lib/python3.7/dist-packages (from sacremoses->transformers==4.10.0->ratsnlp) (1.1.0)\n"
          ]
        }
      ],
      "source": [
        "!pip install ratsnlp"
      ]
    },
    {
      "cell_type": "markdown",
      "source": [
        "### 구글 드라이브 연동"
      ],
      "metadata": {
        "id": "i4wMreDJWQiT"
      }
    },
    {
      "cell_type": "markdown",
      "source": [
        "모델 체크포인트는 구글 드라이브에 저장해 두었다. 코랩 노트북과 자신의 구글 드라이브를 연동한다."
      ],
      "metadata": {
        "id": "iJ8gLa-eWTaC"
      }
    },
    {
      "cell_type": "markdown",
      "source": [
        "#### code 2-1"
      ],
      "metadata": {
        "id": "5lQR4J9nWkEO"
      }
    },
    {
      "cell_type": "code",
      "source": [
        "from google.colab import drive\n",
        "drive.mount('/gdrive', force_remount=True)"
      ],
      "metadata": {
        "colab": {
          "base_uri": "https://localhost:8080/"
        },
        "id": "c98vIGOqWnCJ",
        "outputId": "3a1c9604-9717-492f-978e-479b44d4e5de"
      },
      "execution_count": 2,
      "outputs": [
        {
          "output_type": "stream",
          "name": "stdout",
          "text": [
            "Mounted at /gdrive\n"
          ]
        }
      ]
    },
    {
      "cell_type": "markdown",
      "source": [
        "### 인퍼런스 설정"
      ],
      "metadata": {
        "id": "SFiQ-FywWzZW"
      }
    },
    {
      "cell_type": "markdown",
      "source": [
        "각종 인자( 모델 하이퍼파라미터(hyperparameter)와 저장 위치 등 )를 설정한다."
      ],
      "metadata": {
        "id": "rnbQ_W6cW4H5"
      }
    },
    {
      "cell_type": "markdown",
      "source": [
        "#### code 2-2"
      ],
      "metadata": {
        "id": "iTntf8AAW6ZW"
      }
    },
    {
      "cell_type": "code",
      "source": [
        "from ratsnlp.nlpbook.classification import ClassificationDeployArguments\n",
        "args = ClassificationDeployArguments(\n",
        "    pretrained_model_name=\"beomi/kcbert-base\",\n",
        "    downstream_model_dir=\"/gdrive/My Drive/nlpbook/checkpoint-doccls\",\n",
        "    max_seq_length=128,\n",
        ")"
      ],
      "metadata": {
        "colab": {
          "base_uri": "https://localhost:8080/"
        },
        "id": "yvay9ASnW8Mf",
        "outputId": "af255594-40fc-4b67-8e37-991aa3d1c805"
      },
      "execution_count": 3,
      "outputs": [
        {
          "output_type": "stream",
          "name": "stdout",
          "text": [
            "downstream_model_checkpoint_fpath: /gdrive/My Drive/nlpbook/checkpoint-doccls/epoch=1-val_loss=0.28.ckpt\n"
          ]
        }
      ]
    },
    {
      "cell_type": "markdown",
      "source": [
        "각 인자의 역할과 내용은 다음과 같다.\n",
        "  \n",
        "  * **pretrained_model_name**: `training_section.ipynb`에서 적용한 `pretrained_model_name`(단, 해당 모델은 허깅페이스 라이브러리에 등록되어 있어야 한다.)\n",
        "  * **downstream_model_dir**:  `training_section.ipynb`에서 파인튜닝한 모델의 체크포인트 저장 위치(확장자가 `ckpt`인 파일이 하나 이상 있어야 한다.)\n",
        "  * **max_seq_length**: 토큰 기준 입력 문장 최대 길이. 아무것도 입력하지 않으면 128."
      ],
      "metadata": {
        "id": "WfSu1oVXXg7c"
      }
    },
    {
      "cell_type": "markdown",
      "source": [
        "## 2. 토크나이저 및 모델 불러오기"
      ],
      "metadata": {
        "id": "R2Wip0UxYnMT"
      }
    },
    {
      "cell_type": "markdown",
      "source": [
        "### 토크나이저 로드"
      ],
      "metadata": {
        "id": "gE0vUzhmYynI"
      }
    },
    {
      "cell_type": "markdown",
      "source": [
        "code 2-3을 실행해 토크나이저를 초기화 한다."
      ],
      "metadata": {
        "id": "SdaG4mp9ZIbq"
      }
    },
    {
      "cell_type": "markdown",
      "source": [
        "#### code 2-3"
      ],
      "metadata": {
        "id": "NKiCiJd7ZQ99"
      }
    },
    {
      "cell_type": "code",
      "source": [
        "from transformers import BertTokenizer\n",
        "tokenizer = BertTokenizer.from_pretrained(\n",
        "    args.pretrained_model_name,\n",
        "    do_lower_case=False,\n",
        ")"
      ],
      "metadata": {
        "colab": {
          "base_uri": "https://localhost:8080/",
          "height": 113,
          "referenced_widgets": [
            "80b68433536b400f80f7a8040c2560fe",
            "be593a84e927448a85a5d1afde46df69",
            "956a79eefa524c9184bd8ba648c6a02d",
            "9794b0a3c9b444f19925856b1a5d757e",
            "47b1f5da70ee4847bd27b4e3235432bc",
            "54e1e5b3e88e452b858d885da06acbba",
            "a5edc7851fe945679ef7ce8afeb26a66",
            "5fd4295803f7436281682a4d41e0114f",
            "1293ce079bf24e6781e977ba097075e4",
            "f565a0046f124a78a903f1bf6db75d9a",
            "043b0c878d8f420786263f5746067742",
            "589b5fdf72624f138932f8fcca1fc080",
            "1bdf0e35bb0e498b87603b34283bb9bd",
            "9a9ebdd2eb6f47de9e48b97f58cce1a7",
            "3e60e3abf1fc4454ae0a2b473fd6d7fd",
            "4b0bbf916be14963bbcefd551c734c4a",
            "14d22873633c43ee89958133328b6232",
            "d3044a577cea48e5947cddb638412829",
            "d4875d5823bb4e89b1d3f9ff45307be3",
            "e085232e72b745e39717cbadcf3197b9",
            "e797038a79634ebcb1c360888e8605de",
            "7e589466b9b64b4f80818d9f629bb01c",
            "6711d8a8156b4827acdde207f4923a39",
            "13667804206e468e87b221820daac1e7",
            "7256b4742b0949cf928a162e75d272d0",
            "1a3f674caef8479080d9a9f3a6463444",
            "96ea3d152b054cd4a6f42928c71e8202",
            "e775bd4a2e3440698230131feab71c72",
            "23a622ac7a144097a68e2c1dc914d74e",
            "6e9e730ed3004b24abbda6f95518b44b",
            "ef5b41a95fa6470f8999e5e8fba7aeeb",
            "ec4185365a6e47209b5a1c30d7076e3d",
            "f6eebeb8d24944218b521340277eeb99"
          ]
        },
        "id": "FBLRT_qMZPBP",
        "outputId": "fcd7dd00-1541-4613-bda2-889b3275d246"
      },
      "execution_count": 4,
      "outputs": [
        {
          "output_type": "display_data",
          "data": {
            "application/vnd.jupyter.widget-view+json": {
              "model_id": "80b68433536b400f80f7a8040c2560fe",
              "version_minor": 0,
              "version_major": 2
            },
            "text/plain": [
              "Downloading:   0%|          | 0.00/250k [00:00<?, ?B/s]"
            ]
          },
          "metadata": {}
        },
        {
          "output_type": "display_data",
          "data": {
            "application/vnd.jupyter.widget-view+json": {
              "model_id": "589b5fdf72624f138932f8fcca1fc080",
              "version_minor": 0,
              "version_major": 2
            },
            "text/plain": [
              "Downloading:   0%|          | 0.00/49.0 [00:00<?, ?B/s]"
            ]
          },
          "metadata": {}
        },
        {
          "output_type": "display_data",
          "data": {
            "application/vnd.jupyter.widget-view+json": {
              "model_id": "6711d8a8156b4827acdde207f4923a39",
              "version_minor": 0,
              "version_major": 2
            },
            "text/plain": [
              "Downloading:   0%|          | 0.00/619 [00:00<?, ?B/s]"
            ]
          },
          "metadata": {}
        }
      ]
    },
    {
      "cell_type": "markdown",
      "source": [
        "### 체크포인트 로드"
      ],
      "metadata": {
        "id": "ruVqrbr8Znxs"
      }
    },
    {
      "cell_type": "markdown",
      "source": [
        "code 2-4는 `training_section.ipynb`에서 파인튜닝한 모델의 체크포인트를 읽어들인다."
      ],
      "metadata": {
        "id": "H-xjdFB9Zqph"
      }
    },
    {
      "cell_type": "markdown",
      "source": [
        "#### code 2-4"
      ],
      "metadata": {
        "id": "1irra0-Fau8D"
      }
    },
    {
      "cell_type": "code",
      "source": [
        "import torch\n",
        "fine_tuned_model_ckpt = torch.load(\n",
        "    args.downstream_model_checkpoint_fpath,\n",
        "    map_location=torch.device(\"cpu\"),\n",
        ")"
      ],
      "metadata": {
        "id": "LjfBtVvmaQPu"
      },
      "execution_count": 5,
      "outputs": []
    },
    {
      "cell_type": "markdown",
      "source": [
        "### BERT 설정 로드 및 BERT 모델 초기화"
      ],
      "metadata": {
        "id": "kUT288mVaobD"
      }
    },
    {
      "cell_type": "markdown",
      "source": [
        "code 2-5는 `training_section.ipynb`의 파인튜닝 때 사용한 `pretrained_model_name`에 해당하는 모델의 설정값들을 읽어들인다. \n",
        "\n",
        "이어서 code 2-6을 실행하면 해당 설정값대로 **BERT** 모델을 초기화 한다."
      ],
      "metadata": {
        "id": "ylInXuwNar7x"
      }
    },
    {
      "cell_type": "markdown",
      "source": [
        "#### code 2-5"
      ],
      "metadata": {
        "id": "b42Lval5bObH"
      }
    },
    {
      "cell_type": "code",
      "source": [
        "from transformers import BertConfig\n",
        "pretrained_model_config = BertConfig.from_pretrained(\n",
        "    args.pretrained_model_name,\n",
        "    num_labels=fine_tuned_model_ckpt[\"state_dict\"][\"model.classifier.bias\"].shape.numel(),\n",
        ")"
      ],
      "metadata": {
        "id": "VNE8RG2tbXIF"
      },
      "execution_count": 6,
      "outputs": []
    },
    {
      "cell_type": "markdown",
      "source": [
        "#### code 2-6"
      ],
      "metadata": {
        "id": "9EbO6thxb5gP"
      }
    },
    {
      "cell_type": "code",
      "source": [
        "from transformers import BertForSequenceClassification\n",
        "model = BertForSequenceClassification(pretrained_model_config)"
      ],
      "metadata": {
        "id": "AgeVHqf4b7hm"
      },
      "execution_count": 7,
      "outputs": []
    },
    {
      "cell_type": "markdown",
      "source": [
        "###  체크포인트 주입하기"
      ],
      "metadata": {
        "id": "zuXgxPnocIcx"
      }
    },
    {
      "cell_type": "markdown",
      "source": [
        "code 2-7은 초기화한 **BERT**모델에 체크포인트(fine_tuned_model_ckpt)를 주입한다."
      ],
      "metadata": {
        "id": "-8oKK6rTcO-G"
      }
    },
    {
      "cell_type": "markdown",
      "source": [
        "#### code 2-7"
      ],
      "metadata": {
        "id": "TiyYbIaBceDn"
      }
    },
    {
      "cell_type": "code",
      "source": [
        "model.load_state_dict({k.replace(\"model.\",\"\"): v for k, v in fine_tuned_model_ckpt['state_dict'].items()})"
      ],
      "metadata": {
        "colab": {
          "base_uri": "https://localhost:8080/"
        },
        "id": "2mMFnBtLcf9u",
        "outputId": "ca54690f-da3a-41fa-cadb-8cd1abb94af5"
      },
      "execution_count": 8,
      "outputs": [
        {
          "output_type": "execute_result",
          "data": {
            "text/plain": [
              "<All keys matched successfully>"
            ]
          },
          "metadata": {},
          "execution_count": 8
        }
      ]
    },
    {
      "cell_type": "markdown",
      "source": [
        "### 평가모드로 전환"
      ],
      "metadata": {
        "id": "amQJF93Tc4e-"
      }
    },
    {
      "cell_type": "markdown",
      "source": [
        "이어서 code 2-8을 실행하면 모델이 평가모드로 전환되게 된다. **드롭아웃 등 학습 때만 사용하는 기법들을 무효화하는 역할**을 한다."
      ],
      "metadata": {
        "id": "ND86qovbc7Fb"
      }
    },
    {
      "cell_type": "markdown",
      "source": [
        "#### code 2-8"
      ],
      "metadata": {
        "id": "htAIdbiqdJOY"
      }
    },
    {
      "cell_type": "code",
      "source": [
        "model.eval()"
      ],
      "metadata": {
        "colab": {
          "base_uri": "https://localhost:8080/"
        },
        "id": "MhvYCSh4dKsH",
        "outputId": "ca1ea027-d587-4e42-a882-94e89ea87da8"
      },
      "execution_count": 9,
      "outputs": [
        {
          "output_type": "execute_result",
          "data": {
            "text/plain": [
              "BertForSequenceClassification(\n",
              "  (bert): BertModel(\n",
              "    (embeddings): BertEmbeddings(\n",
              "      (word_embeddings): Embedding(30000, 768, padding_idx=0)\n",
              "      (position_embeddings): Embedding(300, 768)\n",
              "      (token_type_embeddings): Embedding(2, 768)\n",
              "      (LayerNorm): LayerNorm((768,), eps=1e-12, elementwise_affine=True)\n",
              "      (dropout): Dropout(p=0.1, inplace=False)\n",
              "    )\n",
              "    (encoder): BertEncoder(\n",
              "      (layer): ModuleList(\n",
              "        (0): BertLayer(\n",
              "          (attention): BertAttention(\n",
              "            (self): BertSelfAttention(\n",
              "              (query): Linear(in_features=768, out_features=768, bias=True)\n",
              "              (key): Linear(in_features=768, out_features=768, bias=True)\n",
              "              (value): Linear(in_features=768, out_features=768, bias=True)\n",
              "              (dropout): Dropout(p=0.1, inplace=False)\n",
              "            )\n",
              "            (output): BertSelfOutput(\n",
              "              (dense): Linear(in_features=768, out_features=768, bias=True)\n",
              "              (LayerNorm): LayerNorm((768,), eps=1e-12, elementwise_affine=True)\n",
              "              (dropout): Dropout(p=0.1, inplace=False)\n",
              "            )\n",
              "          )\n",
              "          (intermediate): BertIntermediate(\n",
              "            (dense): Linear(in_features=768, out_features=3072, bias=True)\n",
              "          )\n",
              "          (output): BertOutput(\n",
              "            (dense): Linear(in_features=3072, out_features=768, bias=True)\n",
              "            (LayerNorm): LayerNorm((768,), eps=1e-12, elementwise_affine=True)\n",
              "            (dropout): Dropout(p=0.1, inplace=False)\n",
              "          )\n",
              "        )\n",
              "        (1): BertLayer(\n",
              "          (attention): BertAttention(\n",
              "            (self): BertSelfAttention(\n",
              "              (query): Linear(in_features=768, out_features=768, bias=True)\n",
              "              (key): Linear(in_features=768, out_features=768, bias=True)\n",
              "              (value): Linear(in_features=768, out_features=768, bias=True)\n",
              "              (dropout): Dropout(p=0.1, inplace=False)\n",
              "            )\n",
              "            (output): BertSelfOutput(\n",
              "              (dense): Linear(in_features=768, out_features=768, bias=True)\n",
              "              (LayerNorm): LayerNorm((768,), eps=1e-12, elementwise_affine=True)\n",
              "              (dropout): Dropout(p=0.1, inplace=False)\n",
              "            )\n",
              "          )\n",
              "          (intermediate): BertIntermediate(\n",
              "            (dense): Linear(in_features=768, out_features=3072, bias=True)\n",
              "          )\n",
              "          (output): BertOutput(\n",
              "            (dense): Linear(in_features=3072, out_features=768, bias=True)\n",
              "            (LayerNorm): LayerNorm((768,), eps=1e-12, elementwise_affine=True)\n",
              "            (dropout): Dropout(p=0.1, inplace=False)\n",
              "          )\n",
              "        )\n",
              "        (2): BertLayer(\n",
              "          (attention): BertAttention(\n",
              "            (self): BertSelfAttention(\n",
              "              (query): Linear(in_features=768, out_features=768, bias=True)\n",
              "              (key): Linear(in_features=768, out_features=768, bias=True)\n",
              "              (value): Linear(in_features=768, out_features=768, bias=True)\n",
              "              (dropout): Dropout(p=0.1, inplace=False)\n",
              "            )\n",
              "            (output): BertSelfOutput(\n",
              "              (dense): Linear(in_features=768, out_features=768, bias=True)\n",
              "              (LayerNorm): LayerNorm((768,), eps=1e-12, elementwise_affine=True)\n",
              "              (dropout): Dropout(p=0.1, inplace=False)\n",
              "            )\n",
              "          )\n",
              "          (intermediate): BertIntermediate(\n",
              "            (dense): Linear(in_features=768, out_features=3072, bias=True)\n",
              "          )\n",
              "          (output): BertOutput(\n",
              "            (dense): Linear(in_features=3072, out_features=768, bias=True)\n",
              "            (LayerNorm): LayerNorm((768,), eps=1e-12, elementwise_affine=True)\n",
              "            (dropout): Dropout(p=0.1, inplace=False)\n",
              "          )\n",
              "        )\n",
              "        (3): BertLayer(\n",
              "          (attention): BertAttention(\n",
              "            (self): BertSelfAttention(\n",
              "              (query): Linear(in_features=768, out_features=768, bias=True)\n",
              "              (key): Linear(in_features=768, out_features=768, bias=True)\n",
              "              (value): Linear(in_features=768, out_features=768, bias=True)\n",
              "              (dropout): Dropout(p=0.1, inplace=False)\n",
              "            )\n",
              "            (output): BertSelfOutput(\n",
              "              (dense): Linear(in_features=768, out_features=768, bias=True)\n",
              "              (LayerNorm): LayerNorm((768,), eps=1e-12, elementwise_affine=True)\n",
              "              (dropout): Dropout(p=0.1, inplace=False)\n",
              "            )\n",
              "          )\n",
              "          (intermediate): BertIntermediate(\n",
              "            (dense): Linear(in_features=768, out_features=3072, bias=True)\n",
              "          )\n",
              "          (output): BertOutput(\n",
              "            (dense): Linear(in_features=3072, out_features=768, bias=True)\n",
              "            (LayerNorm): LayerNorm((768,), eps=1e-12, elementwise_affine=True)\n",
              "            (dropout): Dropout(p=0.1, inplace=False)\n",
              "          )\n",
              "        )\n",
              "        (4): BertLayer(\n",
              "          (attention): BertAttention(\n",
              "            (self): BertSelfAttention(\n",
              "              (query): Linear(in_features=768, out_features=768, bias=True)\n",
              "              (key): Linear(in_features=768, out_features=768, bias=True)\n",
              "              (value): Linear(in_features=768, out_features=768, bias=True)\n",
              "              (dropout): Dropout(p=0.1, inplace=False)\n",
              "            )\n",
              "            (output): BertSelfOutput(\n",
              "              (dense): Linear(in_features=768, out_features=768, bias=True)\n",
              "              (LayerNorm): LayerNorm((768,), eps=1e-12, elementwise_affine=True)\n",
              "              (dropout): Dropout(p=0.1, inplace=False)\n",
              "            )\n",
              "          )\n",
              "          (intermediate): BertIntermediate(\n",
              "            (dense): Linear(in_features=768, out_features=3072, bias=True)\n",
              "          )\n",
              "          (output): BertOutput(\n",
              "            (dense): Linear(in_features=3072, out_features=768, bias=True)\n",
              "            (LayerNorm): LayerNorm((768,), eps=1e-12, elementwise_affine=True)\n",
              "            (dropout): Dropout(p=0.1, inplace=False)\n",
              "          )\n",
              "        )\n",
              "        (5): BertLayer(\n",
              "          (attention): BertAttention(\n",
              "            (self): BertSelfAttention(\n",
              "              (query): Linear(in_features=768, out_features=768, bias=True)\n",
              "              (key): Linear(in_features=768, out_features=768, bias=True)\n",
              "              (value): Linear(in_features=768, out_features=768, bias=True)\n",
              "              (dropout): Dropout(p=0.1, inplace=False)\n",
              "            )\n",
              "            (output): BertSelfOutput(\n",
              "              (dense): Linear(in_features=768, out_features=768, bias=True)\n",
              "              (LayerNorm): LayerNorm((768,), eps=1e-12, elementwise_affine=True)\n",
              "              (dropout): Dropout(p=0.1, inplace=False)\n",
              "            )\n",
              "          )\n",
              "          (intermediate): BertIntermediate(\n",
              "            (dense): Linear(in_features=768, out_features=3072, bias=True)\n",
              "          )\n",
              "          (output): BertOutput(\n",
              "            (dense): Linear(in_features=3072, out_features=768, bias=True)\n",
              "            (LayerNorm): LayerNorm((768,), eps=1e-12, elementwise_affine=True)\n",
              "            (dropout): Dropout(p=0.1, inplace=False)\n",
              "          )\n",
              "        )\n",
              "        (6): BertLayer(\n",
              "          (attention): BertAttention(\n",
              "            (self): BertSelfAttention(\n",
              "              (query): Linear(in_features=768, out_features=768, bias=True)\n",
              "              (key): Linear(in_features=768, out_features=768, bias=True)\n",
              "              (value): Linear(in_features=768, out_features=768, bias=True)\n",
              "              (dropout): Dropout(p=0.1, inplace=False)\n",
              "            )\n",
              "            (output): BertSelfOutput(\n",
              "              (dense): Linear(in_features=768, out_features=768, bias=True)\n",
              "              (LayerNorm): LayerNorm((768,), eps=1e-12, elementwise_affine=True)\n",
              "              (dropout): Dropout(p=0.1, inplace=False)\n",
              "            )\n",
              "          )\n",
              "          (intermediate): BertIntermediate(\n",
              "            (dense): Linear(in_features=768, out_features=3072, bias=True)\n",
              "          )\n",
              "          (output): BertOutput(\n",
              "            (dense): Linear(in_features=3072, out_features=768, bias=True)\n",
              "            (LayerNorm): LayerNorm((768,), eps=1e-12, elementwise_affine=True)\n",
              "            (dropout): Dropout(p=0.1, inplace=False)\n",
              "          )\n",
              "        )\n",
              "        (7): BertLayer(\n",
              "          (attention): BertAttention(\n",
              "            (self): BertSelfAttention(\n",
              "              (query): Linear(in_features=768, out_features=768, bias=True)\n",
              "              (key): Linear(in_features=768, out_features=768, bias=True)\n",
              "              (value): Linear(in_features=768, out_features=768, bias=True)\n",
              "              (dropout): Dropout(p=0.1, inplace=False)\n",
              "            )\n",
              "            (output): BertSelfOutput(\n",
              "              (dense): Linear(in_features=768, out_features=768, bias=True)\n",
              "              (LayerNorm): LayerNorm((768,), eps=1e-12, elementwise_affine=True)\n",
              "              (dropout): Dropout(p=0.1, inplace=False)\n",
              "            )\n",
              "          )\n",
              "          (intermediate): BertIntermediate(\n",
              "            (dense): Linear(in_features=768, out_features=3072, bias=True)\n",
              "          )\n",
              "          (output): BertOutput(\n",
              "            (dense): Linear(in_features=3072, out_features=768, bias=True)\n",
              "            (LayerNorm): LayerNorm((768,), eps=1e-12, elementwise_affine=True)\n",
              "            (dropout): Dropout(p=0.1, inplace=False)\n",
              "          )\n",
              "        )\n",
              "        (8): BertLayer(\n",
              "          (attention): BertAttention(\n",
              "            (self): BertSelfAttention(\n",
              "              (query): Linear(in_features=768, out_features=768, bias=True)\n",
              "              (key): Linear(in_features=768, out_features=768, bias=True)\n",
              "              (value): Linear(in_features=768, out_features=768, bias=True)\n",
              "              (dropout): Dropout(p=0.1, inplace=False)\n",
              "            )\n",
              "            (output): BertSelfOutput(\n",
              "              (dense): Linear(in_features=768, out_features=768, bias=True)\n",
              "              (LayerNorm): LayerNorm((768,), eps=1e-12, elementwise_affine=True)\n",
              "              (dropout): Dropout(p=0.1, inplace=False)\n",
              "            )\n",
              "          )\n",
              "          (intermediate): BertIntermediate(\n",
              "            (dense): Linear(in_features=768, out_features=3072, bias=True)\n",
              "          )\n",
              "          (output): BertOutput(\n",
              "            (dense): Linear(in_features=3072, out_features=768, bias=True)\n",
              "            (LayerNorm): LayerNorm((768,), eps=1e-12, elementwise_affine=True)\n",
              "            (dropout): Dropout(p=0.1, inplace=False)\n",
              "          )\n",
              "        )\n",
              "        (9): BertLayer(\n",
              "          (attention): BertAttention(\n",
              "            (self): BertSelfAttention(\n",
              "              (query): Linear(in_features=768, out_features=768, bias=True)\n",
              "              (key): Linear(in_features=768, out_features=768, bias=True)\n",
              "              (value): Linear(in_features=768, out_features=768, bias=True)\n",
              "              (dropout): Dropout(p=0.1, inplace=False)\n",
              "            )\n",
              "            (output): BertSelfOutput(\n",
              "              (dense): Linear(in_features=768, out_features=768, bias=True)\n",
              "              (LayerNorm): LayerNorm((768,), eps=1e-12, elementwise_affine=True)\n",
              "              (dropout): Dropout(p=0.1, inplace=False)\n",
              "            )\n",
              "          )\n",
              "          (intermediate): BertIntermediate(\n",
              "            (dense): Linear(in_features=768, out_features=3072, bias=True)\n",
              "          )\n",
              "          (output): BertOutput(\n",
              "            (dense): Linear(in_features=3072, out_features=768, bias=True)\n",
              "            (LayerNorm): LayerNorm((768,), eps=1e-12, elementwise_affine=True)\n",
              "            (dropout): Dropout(p=0.1, inplace=False)\n",
              "          )\n",
              "        )\n",
              "        (10): BertLayer(\n",
              "          (attention): BertAttention(\n",
              "            (self): BertSelfAttention(\n",
              "              (query): Linear(in_features=768, out_features=768, bias=True)\n",
              "              (key): Linear(in_features=768, out_features=768, bias=True)\n",
              "              (value): Linear(in_features=768, out_features=768, bias=True)\n",
              "              (dropout): Dropout(p=0.1, inplace=False)\n",
              "            )\n",
              "            (output): BertSelfOutput(\n",
              "              (dense): Linear(in_features=768, out_features=768, bias=True)\n",
              "              (LayerNorm): LayerNorm((768,), eps=1e-12, elementwise_affine=True)\n",
              "              (dropout): Dropout(p=0.1, inplace=False)\n",
              "            )\n",
              "          )\n",
              "          (intermediate): BertIntermediate(\n",
              "            (dense): Linear(in_features=768, out_features=3072, bias=True)\n",
              "          )\n",
              "          (output): BertOutput(\n",
              "            (dense): Linear(in_features=3072, out_features=768, bias=True)\n",
              "            (LayerNorm): LayerNorm((768,), eps=1e-12, elementwise_affine=True)\n",
              "            (dropout): Dropout(p=0.1, inplace=False)\n",
              "          )\n",
              "        )\n",
              "        (11): BertLayer(\n",
              "          (attention): BertAttention(\n",
              "            (self): BertSelfAttention(\n",
              "              (query): Linear(in_features=768, out_features=768, bias=True)\n",
              "              (key): Linear(in_features=768, out_features=768, bias=True)\n",
              "              (value): Linear(in_features=768, out_features=768, bias=True)\n",
              "              (dropout): Dropout(p=0.1, inplace=False)\n",
              "            )\n",
              "            (output): BertSelfOutput(\n",
              "              (dense): Linear(in_features=768, out_features=768, bias=True)\n",
              "              (LayerNorm): LayerNorm((768,), eps=1e-12, elementwise_affine=True)\n",
              "              (dropout): Dropout(p=0.1, inplace=False)\n",
              "            )\n",
              "          )\n",
              "          (intermediate): BertIntermediate(\n",
              "            (dense): Linear(in_features=768, out_features=3072, bias=True)\n",
              "          )\n",
              "          (output): BertOutput(\n",
              "            (dense): Linear(in_features=3072, out_features=768, bias=True)\n",
              "            (LayerNorm): LayerNorm((768,), eps=1e-12, elementwise_affine=True)\n",
              "            (dropout): Dropout(p=0.1, inplace=False)\n",
              "          )\n",
              "        )\n",
              "      )\n",
              "    )\n",
              "    (pooler): BertPooler(\n",
              "      (dense): Linear(in_features=768, out_features=768, bias=True)\n",
              "      (activation): Tanh()\n",
              "    )\n",
              "  )\n",
              "  (dropout): Dropout(p=0.1, inplace=False)\n",
              "  (classifier): Linear(in_features=768, out_features=2, bias=True)\n",
              ")"
            ]
          },
          "metadata": {},
          "execution_count": 9
        }
      ]
    },
    {
      "cell_type": "markdown",
      "source": [
        "## 3. 모델 출력값 만들고 후처리 하기"
      ],
      "metadata": {
        "id": "WdXWDNKddNNq"
      }
    },
    {
      "cell_type": "markdown",
      "source": [
        "code 2-9는 **인퍼런스 과정을 정의한 함수**이다. 문장에 토큰화를 수행한 뒤 `input_ids`, `attention_mask`, `token_type_ids`를 만든다. 이들 입력값을 파이토치의 텐서 자료형으로 변환한 뒤 모델에 입력한다. 모델 출력값(`outputs.logits`)은 소프트맥스 함수 적용 이전의 **로짓**(logit)형태인데, 여기에 소프트맥스 함수를 써서 모델 출력을 '[**부정일 확률, 긍정일 확률**]'로 바꾼다.\n",
        "\n",
        "마지막으로 모델 출력을 약간 후처리 하여 예측 확률의 최댓값이 부정 위치일 때 해당 문장이 '**부정**(negative)', 반대일 때는 '**긍정**(positive)'이 되도록 `pred`값을 만든다."
      ],
      "metadata": {
        "id": "PMJSZPEHdR3L"
      }
    },
    {
      "cell_type": "markdown",
      "source": [
        "#### code 2-9"
      ],
      "metadata": {
        "id": "98JGZ7baiaNI"
      }
    },
    {
      "cell_type": "code",
      "source": [
        "def inference_fn(sentence):\n",
        "  # 문장을 토큰화한 뒤 input_id, attention_masks, token_type_ids 만들기\n",
        "  inputs = tokenizer(\n",
        "      [sentence],\n",
        "      max_lenght=args.max_seq_length,\n",
        "      padding=\"max_length\",\n",
        "      truncation=True,\n",
        "  )\n",
        "  with torch.no_grad():\n",
        "    # 모델 계산하기\n",
        "    outputs = model(**{k: torch.tensor(v) for k, v in inputs.items()})  # {}안 = inputs를 파이토치 텐서로 바꾸기\n",
        "    \n",
        "    # 로짓에 소프트 맥스 취하기\n",
        "    prob = outputs.logits.softmax(dim=1)\n",
        "\n",
        "    # 긍정/부정 확률을 소수점 4자리로 반올림\n",
        "    positive_prob = round(prob[0][1].item(), 4)\n",
        "    negative_prob = round(prob[0][0].item(), 4)\n",
        "\n",
        "    # 예측 확률의 최댓값 위치에 따라 pred 만들기\n",
        "    pred = \"긍정 (positive)\" if torch.argmax(prob) == 1 else \"부정 (negative)\"\n",
        "  return {\n",
        "      'sentence' : sentence,\n",
        "      'prediction': pred,\n",
        "      'positive_data': f\"긍정 {positive_prob}\",\n",
        "      'negative_data': f\"부정 {negative_prob}\",\n",
        "      'positive_width': f\"{positive_prob * 100}%\",\n",
        "      'negative_width': f\"{negative_prob * 100}%\",\n",
        "  }"
      ],
      "metadata": {
        "id": "g57Gh6uZicIw"
      },
      "execution_count": 10,
      "outputs": []
    },
    {
      "cell_type": "markdown",
      "source": [
        "code 2-9에서 `positive_width`, `negative_width`는 웹 페이지에서 긍정/부정 막대의 길이를 조정하려는 것이므로 크게 신경쓰지 않아도 된다."
      ],
      "metadata": {
        "id": "riMUczzEncS4"
      }
    },
    {
      "cell_type": "markdown",
      "source": [
        "## 4. 웹 서비스 시작하기"
      ],
      "metadata": {
        "id": "mFDCJZAPl2c5"
      }
    },
    {
      "cell_type": "markdown",
      "source": [
        "### 웹 서비스 만들기 준비"
      ],
      "metadata": {
        "id": "n890a4Cnl77t"
      }
    },
    {
      "cell_type": "markdown",
      "source": [
        "`ngrok`은 코랩 로컬에서 실행 중인 웹서비스를 안전하게 외부에서 접근 가능하도록 해주는 도구이다. `ngrok`을 실행하려면 [회원가입](https://dashboard.ngrok.com/get-started/setup) 후 [로그인](https://dashboard.ngrok.com/get-started/setup)을 한 뒤 [이곳](https://dashboard.ngrok.com/get-started/your-authtoken)에 접속해 인증토큰(authtoken)을 확인해야 한다. \n",
        "\n",
        "예를 들어 확인된 `authtoken`이 `test123`이라면 다음과 같이 실행 된다.\n",
        "\n",
        "** !mkdir /root/.ngrok2 && echo \"authtoken: test123\" > /root/.ngrok2/ngrok.yml**"
      ],
      "metadata": {
        "id": "bZcdScS2l-h7"
      }
    },
    {
      "cell_type": "markdown",
      "source": [
        "#### code 2-10"
      ],
      "metadata": {
        "id": "JqkrOkY5nT9_"
      }
    },
    {
      "cell_type": "code",
      "source": [
        "!mkdir /root/.ngrok2 && echo \"authtoken: 25VlJirb2snSErokfS8Nxc52HkI_2jNyvvx1PLGurfQKXuLJC\" > /root/.ngrok2/ngrok.yml"
      ],
      "metadata": {
        "id": "dAYYkzCnnSfg"
      },
      "execution_count": 11,
      "outputs": []
    },
    {
      "cell_type": "markdown",
      "source": [
        "### 웹 서비스 시작하기"
      ],
      "metadata": {
        "id": "Otdk7tcrnYht"
      }
    },
    {
      "cell_type": "markdown",
      "source": [
        "code 2-9에서 정의한 인퍼런스 함수 `inference_fn`을 가지고 code 2-11을 실행하면 **플라스크**(flask)라는 파이썬 라이브러리의 도움을 받아 웹 서비스를 띄울 수 있다."
      ],
      "metadata": {
        "id": "zQuwHc8nnqTu"
      }
    },
    {
      "cell_type": "markdown",
      "source": [
        "#### code 2-11"
      ],
      "metadata": {
        "id": "4wSLevejn_J4"
      }
    },
    {
      "cell_type": "code",
      "source": [
        "from ratsnlp.nlpbook.classification import get_web_service_app\n",
        "app = get_web_service_app(inference_fn)\n",
        "app.run()"
      ],
      "metadata": {
        "colab": {
          "base_uri": "https://localhost:8080/"
        },
        "id": "3t_yT7N7oBiK",
        "outputId": "7997d043-d551-4fc2-e470-40f550661d41"
      },
      "execution_count": 12,
      "outputs": [
        {
          "output_type": "stream",
          "name": "stdout",
          "text": [
            " * Serving Flask app \"ratsnlp.nlpbook.classification.deploy\" (lazy loading)\n",
            " * Environment: production\n",
            "\u001b[31m   WARNING: This is a development server. Do not use it in a production deployment.\u001b[0m\n",
            "\u001b[2m   Use a production WSGI server instead.\u001b[0m\n",
            " * Debug mode: off\n"
          ]
        },
        {
          "output_type": "stream",
          "name": "stderr",
          "text": [
            " * Running on http://127.0.0.1:5000/ (Press CTRL+C to quit)\n"
          ]
        },
        {
          "output_type": "stream",
          "name": "stdout",
          "text": [
            " * Running on http://a6fd-34-86-194-28.ngrok.io\n",
            " * Traffic stats available on http://127.0.0.1:4040\n"
          ]
        },
        {
          "output_type": "stream",
          "name": "stderr",
          "text": [
            "127.0.0.1 - - [23/Feb/2022 13:01:09] \"\u001b[37mGET / HTTP/1.1\u001b[0m\" 200 -\n",
            "127.0.0.1 - - [23/Feb/2022 13:01:09] \"\u001b[33mGET /favicon.ico HTTP/1.1\u001b[0m\" 404 -\n",
            "Keyword arguments {'max_lenght': 128} not recognized.\n",
            "127.0.0.1 - - [23/Feb/2022 13:01:18] \"\u001b[37mPOST /api HTTP/1.1\u001b[0m\" 200 -\n",
            "Keyword arguments {'max_lenght': 128} not recognized.\n",
            "127.0.0.1 - - [23/Feb/2022 13:01:25] \"\u001b[37mPOST /api HTTP/1.1\u001b[0m\" 200 -\n",
            "Keyword arguments {'max_lenght': 128} not recognized.\n",
            "127.0.0.1 - - [23/Feb/2022 13:01:29] \"\u001b[37mPOST /api HTTP/1.1\u001b[0m\" 200 -\n",
            "Keyword arguments {'max_lenght': 128} not recognized.\n",
            "127.0.0.1 - - [23/Feb/2022 13:02:12] \"\u001b[37mPOST /api HTTP/1.1\u001b[0m\" 200 -\n",
            "Keyword arguments {'max_lenght': 128} not recognized.\n",
            "127.0.0.1 - - [23/Feb/2022 13:02:34] \"\u001b[37mPOST /api HTTP/1.1\u001b[0m\" 200 -\n",
            "Keyword arguments {'max_lenght': 128} not recognized.\n",
            "127.0.0.1 - - [23/Feb/2022 13:03:11] \"\u001b[37mPOST /api HTTP/1.1\u001b[0m\" 200 -\n",
            "Keyword arguments {'max_lenght': 128} not recognized.\n",
            "127.0.0.1 - - [23/Feb/2022 13:03:35] \"\u001b[37mPOST /api HTTP/1.1\u001b[0m\" 200 -\n",
            "Keyword arguments {'max_lenght': 128} not recognized.\n",
            "127.0.0.1 - - [23/Feb/2022 13:03:56] \"\u001b[37mPOST /api HTTP/1.1\u001b[0m\" 200 -\n",
            "Keyword arguments {'max_lenght': 128} not recognized.\n",
            "127.0.0.1 - - [23/Feb/2022 13:05:14] \"\u001b[37mPOST /api HTTP/1.1\u001b[0m\" 200 -\n",
            "Keyword arguments {'max_lenght': 128} not recognized.\n",
            "127.0.0.1 - - [23/Feb/2022 13:05:41] \"\u001b[37mPOST /api HTTP/1.1\u001b[0m\" 200 -\n"
          ]
        }
      ]
    },
    {
      "cell_type": "markdown",
      "source": [
        "## 서비스를 실행한 결과는 아래와 같다. 밑에서 두번째 줄을 클릭하면 웹 사이트로 연결된다."
      ],
      "metadata": {
        "id": "7wqcmAntsPQR"
      }
    },
    {
      "cell_type": "markdown",
      "source": [
        "![화면 캡처 2022-02-23 220442.png](data:image/png;base64,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)"
      ],
      "metadata": {
        "id": "tx2Al3LSrvEk"
      }
    },
    {
      "cell_type": "markdown",
      "source": [
        "## 웹 사이트의 형태는 다음과 같다."
      ],
      "metadata": {
        "id": "mNAZUhAusQCT"
      }
    },
    {
      "cell_type": "markdown",
      "source": [
        "![image.png](data:image/png;base64,iVBORw0KGgoAAAANSUhEUgAAAeYAAAG3CAYAAABhQfadAAAAAXNSR0IArs4c6QAAAARnQU1BAACxjwv8YQUAAAAJcEhZcwAADsMAAA7DAcdvqGQAAGUVSURBVHhe7d0LfBTluT/wn1qh9CC1RiChKqBVWsQAIoqgIqBIlSqK10hRgaKoCCJVK6CVm0dECl6KesQLIl5RtGAxChQFRRGFcLFgJaAeCGA4FvhLiZf8n2fmnc3s7MzubJJNJsnv+2HIzuzs3Gee9zYzB5QKEBERUSQcaP4SERFRBDAwExERRQgDMxERUYQwMBMREUUIAzMREVGEMDATERFFCAMzERFRhDAwExERRUjCA0b+uWEjHn9yJpZ/+BH2799vhhIREVFlqV+/PjqdfBIGXdMfv251nBlqiwvMGpQHDbkJQ4cMRs+zuqNBg5+ab4iIiKiy7Nv3H+S/vQgPTn8Mj09/IC44xwXmkbePRscOJ+KC351rhhAREVGmvPa3N7Bi5ceY/N/jzRBPHbMWX2tOmYiIiDJPY67GXre4wKx1yiy+JiIiqhoac73tudgqm4iIKEIYmImIiCKEgZmIiChCGJiJiIgihIGZiIgoQhiYiYiIIoSBmYiIKEIYmImIiCKEgZmIiChCGJiJiIgihIGZiIgoQhiYiYiIIoSBmYiIKEIYmImIiCKEgbk6bJ+L63Jvwpztpj+kVVNOROspBaYv86p6fkRExMAcoBhzrj8R931ieomIiKpIpAPz13NvQuvr5+Jr009ERFTbMcdMREQUIVUSmJ26Sutv7om4bm6xNdzKEUu/0znDnaLkM+5cCiwdizP0+1jO2f6u7HfxdbXx05TvPvGrzy3AfbFxEqcBZKHvXz/GH9ubXuEsu9MFFnPH6o/j51G2bj5iv/GsW1D97id/KRsnYdlVqvWzebd/qvpkZ/yk60JERBVSdTnmp67GW90+xvqCj/FInywZUIAnNw2y+q3urTuBO882Ac8OjO+MPQ047U68o9//tQ8Ol29WTTkbY371VOx374xtqT+waOA4486WmO1Ms2AQNl01Fu+Y7y1WELwan499KzaN9U+3xJizg4OtTjfvX2Y5rPF/b74JslSmtxBnu8Z/5867fYNjGf3N3cBd5jcFT+Ea2WYJwVKHLe5hxtH1h/zOFXhDrp8mNOK31VsY9y+ZdlDVgSQGzpBdNO4tZ/8REVEmVF1glgB7jSsHCuTijyNyzWfR9HScLXH48y3JcmPF+PxfwBlH/9L0A4f3uRl9m+onCfSSw77m6ZvRzvpGyTwk4J9h+tSqZyVQX/1UfHBpfzNmXw08udg/x/jVJsm5/+poK2FgkfHduWk/ccvRvj/GnbYUb72fPKd5zdMPmHVRsuyaAHhqIVaZIRZNqLi22+F97oqbdqj1k+D9yFOnSZB1bytJDN0l22rpIizxJiAkKLe+6hnP8hERUSZUXWB2B7YYd5Gr5IQl/iUnweMPmvs8W8b/S3zA2r4Jn+P3ODtpwLQD+zXdXAkCo103CYL/2uSbW2x3pQQszakGFAknOg1HNzMfQ/P5TbOWkqgoxOfueSZsxywc8yvgnU3/K59Drt/WQrxzWnd09QZZK3G0FJu2mn71r8dxnRWU44v2iYgoM6qt8ZddXynZOLngx4pSJceckuT+7CLcQuRZAd0ToDOhaR884ioSDh+ga4/kJRlERFRZqikwF2NJ/lKcMfatcufCDu/zgATop3ANnsFbsbpT92dDc4fmo5O79CuyXrX4mYBcvYuVKNAEROpi6crw9fuL/HO2cQrw1lNOLjnk+mlO3K/Ievu7eGupJ+f+q0F4xNT/s9EXEVHmVVNgdhe/2r6ee3dCUfbhzVsCSwvxlem3WmRPCWicJLna67Qe9Sp3DroA910lAcnFKZaOCzKf/AV5Wud6ZWIRsFo1pQpy5VbjL9d8ts/F6Dsl8dLz9PjEgmfZV025Gk+6ivBDrZ+1rTzz0217t9ZPD0qsR9YSAwZnIqIqUW1F2e1GmFbHpo55NAYlFmVbjaaesYusndbC/zK3T1mdXRTu5LrbjfgYs68241vdQpztafzlDjLOvFtfBcwuSNawyT3Ns/FWz7cy0DJZAufTLfGIM5+zxwJjfeZz9VO4blPZsuc99XtZdlcjrpDrl7it7PVa726Q56bTtVqXy3T50Bcioow5oFSYz+jYpRveXfh301dL6O1DZy+SAB3hFsU1YRmJiCgjTu/xW6xYttj0VWOOuaqEq6clIiKKhloVmFdN8bSW/kQfirEU1/zBfjgJERFR1NWqwHzE0foULKfOVOtWef8tERHVLLW/jpmIiCjC6lwdMxERUU3CwExERBQhDMxEREQRwsBMREQUIQzMREREEcLATEREFCEMzERERBHCwExERBQhDMxEREQRwsBMREQUIQzMREREEcLATEREFCEMzERERBGS8HapWU88YvqIiIgo0/oNuC7u7VIJgdn9JREREWWWN/ayKJuIiChCGJiJiIgihIGZiIgoQhiYiYiIIoSBmYiIKEIYmImIiCKEgZmIiChCGJiJiIgihIGZiIgoQhiYiYiIIoSBmYiIKEIYmImIiCKEgZmIiChCGJiJiIgihIGZiIgoQhiYiYiIIoSBmYiIKEIYmImIiCKEgZmIiChCGJiJiIgihIGZiIgoQhiYiYiIIiS6gblgGjp2uRGv7TD9laB4/o0yzWlYY/pDC7ssO+ZieJdumFZg+iuDNe9KniYREUVW1QVmE2CCu3IETJc1D8s0bpmLYtNfI2QikBMRUY1WdYE5dxhWLFvs083G6E7y/dlt0MIek+qqvZ9hwewZWLBprxlAmfcJppnEcaYSiMUrZmH6qx+g+AczgIiSqv6i7K/exWvLgW5d2uMQMyh9Jdi9T/+UYL89QJRdcJyu18R15rvyWIfxF8ZPL6G7cBqWmbFD2bcXX+vf762+yvXDFrw0WJYpbxrW6LZx7N2CZbNvx/VX/w5dnOU+63fod8d9WFaJ1QblsebpwRjz8CyMGTyjQqUnNcteLP6z2Q9d8vDSFjO4ttgxF+OGz8ATk2/HuLd2mYEpBB27RHVE9QbmH7bhtQfkIty8D37f9TAzsBx++AwbJLjj4zewLHZha49hntz5gjuON9+Vx/EY/Wr89BK6V4ehixk7jOK1y7FB/i56/xNJWijZHrc4F2nTDZlrfZOuDbNHYNK6hug3ciBOaGAGbpuL4X2uxvCHP8CKz/aaeQpJIGxY8gY+KjL9GbULG+ZPx5ght2OBJyHQ7DhNnNVDq8vPQCszrCYo2fYuXpo8Apc++YkZkoZ/v4O/v2U+y/6ftagiiccIOrQ5co+tB/y8PXq1DXmOH9Qcl4yS43bLXFz38LtlxylRHVGNgXkv1jxyI8Yvk+Bxu5yEcu4mcuVSk9Qf71nyDGbU64F+Z2/D1IfnYmtNKDLb9wFmPbkOzXIaYuvs8ZheoMW3Objgfk+wn97HHj8dX72Iex/ZhXpnD8eAExuagZILuUty9JIDqZfbB399+c2yeSyeg1l3nI6sg8yoGbUFCya+iAWyvmWlG7ass6dg0bI3MWtQewnPNceej1/ApFc/QeG3ZkAaipe+gcXyt9V5p6Oj/N06/x1sqE1FvvXaY8BTcqy9MQW9csywMJpfipvzGqLk1UmY9U8zjKiOqJ7A/MMuLHtgMK6bDVxy//9gWK4TPLxcudT7+yDLDI0jucAxEz/DpbcPx7Db/hv9dkzHJX+ahcJKLwKrxKLsH7Zhwb3jMeubHrj1qacx9WJg1ojBmP5x5dStbnjrGaxBQwy8vEdZ9cDef6HAZMYu/cMwdMxxhb56h0lgGIt+FSlQoHLYgkWv6U5piO6XDES3X8tHOZ5f+5h5RDkoccIFv8cJkoCf/uwb2GOGEtUFVR6Y93w2F+MHXoHhC7Ix/JmncWunChRhb1uI8bdMB25+yA7uDdpjyPSHMLz+M7i072A8sWIbSioj9xHYcM2/G5ZrfufnB8kx3nsjxizNwZCHhqNLw8PQ5aan8cSAhnhpaF/0u3cuNvzbjFseP3yCBc9KgM85F12ONcNUg8NwuCnSXv3ZZ/aHFEq+Wogn7shDr7PshEf3vBHWNo1jWpZbt5Nt24sN88djwIXn2OMPvh0v/bMssWG1nO8yArOsPldC52G7CNi+nU363aUjcdPfhRVPjsCl52r/Obj0jhlYY01+Lwrd89Xl/NinPlMShGteHY/r8+zxtG59wGTZ3nHpofjGUMUrpuNWM36XC2/EtGWu9TfLFmu7MHuEPd2wt/l99gZm6U+tfdUcuWdqArUEry39wKf4No3lUj/INlk2A2OGl+2/Lhfm4dYnUzXCMvW7Mn6/lxMrvPcsut36ruMYEyxlPhveug+3xtosnINeV8v2t0qAVEDjMkmcrtC2Ds6+0P05/HYs+Mp8r444HRdow9BF7+CjuH1EVLtVTWAu2YXCFXMxbfg56H71dGztOhYL/jYFlxwdlFNOQS8G8+9Ev99PwqbfTsGk81xlZA2OxSXj5uDFG7Kx9Nm5KIxM5qMEW5dPx/W/uxpjFuXg1semYMCvzfof1BAn5D2GRa+ORXfJMb200nORTcem5VikpQVnnIhW7qLpg9qj11V2ImjNAzdKAuBFrEkSPEoKpqHfZeMxfUkxGp3cA/16NUe9HZ9g+vCrMXy+3/LtwuK/XIV+f5GgclgWsiQRsGfdB5h0o6su+Rc5aPXrw0wuvh6yjtV+6X4RpuBap/8HXP/SFtRr0lB+XYLCJbMwYMQsLJt/O/pNfBd7nflukeUcOgIvuS/y2p7hT1dIIF6I1fty0OuyHujWpEQCtaznYP9GRoWzbsT5w+dic4MstPy5bJMd6zDr1hsxfZ05qA6qh8N1+ZuY5f/5Yfb6yDo2ClEtsGHpG9gqf5udZ9ept+p0LprJ35KX52NZkkCUcrnUuhm49NZZWCSx9fCTT0Gvjoeh/o5tWPz47RjwiNOmwU9zdPltc+vThr+/i0Lrk2MXli3+wPrU7YxOsh+1Okr2+Z/fwGLZ1q16nWsdJ43kOCn4Mkke19oXV+N6bevwTUN0u7APLumahd1rP8CGuPRUDnJP1XP7AxRstIcQ1QmlLid1PtN8qmTfflw69Q9XlY5+9u3STd+YYamsnirLc0Pp3O2m3+3btaUzhl1VOvX9YjMgnK/n3SDTnFpaYPqTsuZ/ZoW7qavN9MR+meY1wx4vLdhjBoRhlsM9nWR2L7zNGn/YvK1miMv3e0oLZv6htHNs+XqWnvPHv5Z+6N3G37xdOrqHfn9D6TOfuxZ26wulw6zf3Vz6d2c/bn/VDDuztPMfXyj93+/N8D3LS6f2tYdf+dJmM1DJsWCNn7hv7f0j3414tfRrMyx++q/Gpr/7w0ml55vhJ/WQaX1pDy/91n++/5x5kTXs/PveLv3aWcbSPaUfTuttD39irRnmLJ90V0wt/dBZ/e83l744wgy/753S/Wawii33Qx+bISF8L/OxtnHv0hmfOsPkuDbL/sd877Gd5nKtfaH0rx/GHwP73x9n9v240qWxEcumGzvGvplf+kdr2BWlL7p3nTO8x7jSD/X3e+Q4MeM987k9iuX7raX/3OwsoM/0N/7V7LsxpUu/NcPUno2lmzzHhC6z/nbIaz7HM1Etoce4W9XkmBu0x7DHnsK4vB5WCj8Uq/j4IVzQxPS7NTgeA6Y+hWFpFoNnnfeQTHMYTjD9SaUqvjYtsPtN9/nO1bmLtevJNJ+YOhAnpFNQYJYjafG4S8k+O6vVLMunRl5z5r9/DAtmj8aQLnaus3jZi7j+wr4Y/1ZZsWXx0lexQBuJ5Q1EP3epRs7p6KZFi5Ac0afePFcOht9wKZo5OcWGp6B7LzsnuWF7yNtkktLp94lN/5CO5+ICU1DS7MohuOAI+zMa+MxXi/ef1s9y3PTv4Wrk1hAdzzzL+rR16See3CFwyU1D0NFZ/YOao/vZphJ+W3GF6zxLPp6PFzWX3uAsdHSqHA46Hh272cu+eME7gY0dQy3X8ZdiSMf41lb1TuyKC6xPRfj6G+uDv5+fhUsu1uWQnO2KsuNiz4dvWw3Vml15ITrq1/XqmdKPYnz08WfY4xSRH5SDVs2THOT1DjG/W4dlH7tKXxoei5ae873ez+wxV3xZJbcMEEVC1Tf+SvkEMHeXxiM5f9iFwmWzMOmOPFMHaTq9R3fgCEx6dSEKI1NPlXiPdaou3Yc/1P+ZfYH3c0jzHhgw6W9Y/PJ/y8Vbx9uF1/48GJOW2xto62a7zrQkVmfqdHkYr7elia3F3rBxGOo5t2UZzXLcldwV5Z3+YciyS1zR5Tfx80mYb/EW0xjQpwGfczvaP4vhPTy82zCrWWWtz14sm7/QKk6ud+EZOMFV7H3C6efaLdKXz8Uid1G8S9jlKtm2DgtenYbpk0fIOZCHXufeiZfMd8nVQ8ffSiJIPpUVZ2/DogXaFqAhLjjVJATqnY5+Y/QWtxIs+8tgdD/ndxj+8Bup20g074PbrsmRuezCS7fmoeO5V2PM7A+wNbh8nahOqZ5W2WHuCU7nNiFtBPb7vhj40ja0uvwezJjrms6bczD97t+j5cYZ6Ncnz9yWlJ5yP2M7UOI91oFdeW6XEvu/TX2Vq5dzCgbc/xzGdde+Erz0yttxubSsjhLAr+nj23U5Mtbeu9olS4TEy0Gv3/uvz4Br2vi3+s8E173LCYkfSSjYe24LXlue2PgqnBJsmD0Y3S6+EWMmv4HFn+5Fy7an4ILLTwlXWqR+fa7dSv+fb+MjTSDs+ACLNVF2/O/RS1uPG816TcGiV6dgdN7xsv0kwTH7PvQ7t68kJJOdZw1xwqDZVsnNsF7Ncci/t2DBw7fjgnO1gZ8ZhagOq6bAXJl2YcFfx+O1nCGYdf8fcUGunOju6/RB9XDIEe1xyW2zMeu6enhixFSsqMUp83oN7CLExBxtgIMOQ6u2psjTFEVmHWnnwIqP6IqBg4ZhiE93SeAtbhGUlYOW5mPub/3XZ8igHlYOsSo49y5D9pXdWMzTmcZkG56X3Gd57irY+y5mPfyZhGdJAL/8Jl6c8RjG3STr2P88uGJqCk4jsC34+4ot2LpsrnUrYLdLzkrcTk3a44IbHsKCN/+GJwbpb3Zh1thnrIfnJKMlN/3GPIVF7zyFcWfL8bRvHcY/ujC+muB7+2Rt1bQCd28Q1TC1IDBvwYZFQJfup5fVbwZoeVx7OfmLsDVZ/VoNd8iRza0L57LPv7AHOHa8gWkPz8War+JTJSVb3sCzr9jZlHpHZFl1f81OPMvOWb06FVO9t+Hs/QwvPflGYP1neJ9hQ1U9E/ug9uhs6kynPjzLc3uUBMpl99m3LVXU6nUoTBlInXuXZXtfOBazZkiC0dvdYxcjY9sbWBbuzrZ43+4xwe0wHH6o9cGydf4LIYuybc26X4pu8nfN35/BrKWaez8Fvz3VFSD3rrOeIBejbRjammLub0pMzt/HV59ghbuK6qDmyD3RJA5l2d2/K9xk30qXe0R8fTlRbVYLAnNztOougWjRuymf+FW4UU7yBtlo5rpYlVuTPhK0wjfKqjJHd0J3rYt952NPjqUEhbOnYcBlzn2jdtcl7z68ptfc5qdj/JWn2/WbR1yKMSOPjdUB6v2vWkfZT+9VPWcwJq2tSJFDNlpYDchK8NItfXGpTLdcj7JMSz10HDAal0hmrmTZDPQ75xxrvrpO2h6h162S0ChPztTQEgZru62TaV+s2ynxcaMxzr3L+gCYHpJQ9KPFyFbWdi9m/L0cj6Q8tDlaWnHsXQzv29fed3nnYPjWY03jr5CcRmDrFuKl5bIVLz4PXdwFJd9+hmflmOiel4dbJ99n3zMt21K3d6sBJnHnZ9c7uP5Cvd95MMY8MB63DpRlvFdTIPVwwXlnuKoUtqHgfU0YHo9WR9ulCER1QS0IzIeh1/WjccG26eh3iwSZgi3Y474n9YcS7JEU+kv3ysXpkRIMmDLcblFaWx10PDqfJyuouS33owyzzsDAOy5Fr445rpbx9dDy1+1xycj/xoJnxqKbq0Vsywsfw+tT+8Xuf93wz20o/PchEsiH4YnbAp7CFkoOLhgpQTLX3Iv8z2I0PKQKisV/fjpufewxjMtrj1aynoWyPhtk3jjuFAyb9BQGmIxeueQOxBM3tDf3FOt2aohDfma+83DuXfbW1cZrji697ZZtJfOXYHW6kbleewybOhr9tOX9v3dhw5Y9OPzssZh+3RmmNXRYZY3ArITEb03CzXHosejS61g021eMxa++gQUritGojWzPqU9hVl6SDZp9Ivp1zUKjHZ9hwQsLsXhLCZp1PRfjnpqD0e5n5psX3KD7uejud3cGUS11gN4zZT5bOShtcJRR2io79IsZtJFYwC1TXtoqe/kbeGn+G/holV4czXCtx2t+LHJ7n4dLzu6BluWIAdr4K603U3UahgVBjxBNl9leeltW6Nz5llkYkDcDG84ejQV/dj2Wkyhd/5yOCwa+iK05l2LWy0Oq9OUiG578Hfo9rrckzpFjnzlmqr28sbfqAzNVgRKsefwKDHiyBP0efA7DYi+yIErPmofPwYDZJThh5FN44kJzf1pV2PYihl88HSuYuKQ6wBt7a0FRNiWqhxOuGYshzfdi1uQZfKctlUvJphmYIUEZDXpgYK8qDMr6Pua7pmNZ8z545DYGZap7mGMmojhrHv8d7l0KFFrv7K6HCyY+F1/3S0SVijlmIkqhBBskKNdv3h5DHmRQJqpqzDETERFVI+aYiYiIIoyBmYiIKEIYmImIiCKEgZmIiChCGJiJiIgihIGZiIgoQhiYiYiIIoSBmYiIKEIYmImIiCKEgZmIiChCGJiJiIgihIGZiIgoQhiYiYiIIoSBmYiIKEIYmImIiCKkyt7HXDz/RvSauM70JdfljtmYel6O6UvHNrx2Sx4Wdy/v74E1D3fDjBYhf79jLoZfOA3LTK+/4zH61YdwQRPTmxZ7fTZftRjDcs2gtH2CaV1GANPDTMOe3/jlpjdI3hSsuKG96UlfWtu4rimYho5D5poetz54YtkwnGD6KoceGzPQotzHp9Dlfbo5FtzfB1lmkFfw/q6a+Qeyzt+30a0i8yeqBNX2Puas8x6yZuzunsiTLzoNwwLP8MALtp5IsgK6EtoNn7/NfJGKXgDKfpfYTcMaM2b69IIZv/xl3RT0M2PF0wDotxymu2Uuis2YqWiCJ+63D39ivimPHFxwv996lHXWPkvF2k8V2aaVzFqeG/HaDtNfThpg0tk36bKmPwT+x9N0YIDs32kFZuSkUh3vYbaFTsNnvCrbtwHzDynhvHB14a8bRNWj+oqyJaU7YFMfCVzTMCvMxUZTxlbq1rlYTUHLiXkhA1F7DHNd5Bbccbyd64sNq+ycSCrxAVCXR0sJYssTMvWvF/Jei86KS9g8gRFy8cnshbNLi2zzqZKZhFe44FPzJA/sn2DRbC1dCTgWcyUBK8fJrHfTP94Tu4rmEOdaiQQr0Pnk7r1BccBsYJmeq65hVbKP487xso4lNRR11ROYreI6yRncPwzD7p8CDEmVMpYc5tNzJXiNcl1Q5OIjF7Eus2eknareunkdsGlLxnI+6dLlWba5yPSFJEFsxmzJrXuC+Ak3zMboTvJddeYKirZgmVy8FzkXX93frouyXqgTyT6+dxogCZTyF9tn1gk3yIXdtb2tAJRGDtraN5IQHee7b9qje946jL8wIFEl21CrgvqdHrYKwc41u3OH1vKmVaKiy1O236zOqrpxlRJN72PGLeNXOubtorqPiaKgigOzKcJ99ww5OZ2cgabuRwH3yvDAi1wRNi8/Ht06elK6TU5Bt07rkFZMswKa5FDD5tRTcuUeEroRmGXGCmQtj/xNksCYNcRMz31R1eDXqTmamd4yOTit+/HpB/pKtObdueiX10eW2wQZye25L8q+xeE7PsDi5X0wsFbnZnJwwVV9JPf4om/wtQK/KbJOOJZMEXf4gJaNFp3MR5f0Sjs0B1+236xOE8Pm21T8ipMTc8plwb+2lpQQpatqAnMsxzQBuE1O7oSGQ6Zo9zZgnN8JvGMLCnEsjk4ofsvB0Ue7AleXFA2XtKhUUvwtpz+EqbcNQ2HKnHoKTfpgqvui5dslKzaUXI0sj+YSF9wBjL/XP2HSb7qZlnu7ZTdHl+VbsNX0ltmGpYvWZa64OQW9GA/AFAy7QYKxFWTCbePiFW9jWd4ZZcW4VrG2/tZTH++X4/PkyMPkYq1iZddv4o83M+8Cu2jdqRqwfmPN314mqzHjcsnJOvO0liMxxxuXs849A/3cpQlenkRMWZdudYt9brhZJUUJygJj+LrX5EXZStfZW82i1U+QczU+AJcFf+aiiWxVE5hjF5sUdVuuQJfOSRoLXMu0GNcM9LAujlZQNtPWeb16FhbLRalaGoNYF/8RKDQt0LX4b0H3t9ErbNGoLP/APLlAesZf87AmTtLMeVrLYi60Kbq4+kLPvGMXYycBYe33gdisF/6kRah2YiKxmFaDhknMWft3CvrNHhE3LWu/DvksLmf3xNEaLJPUs8v6LmrhqtOfrrl7bwJC5v00MMYaxxsU7YSk1VbBabyoRdy+QdcklLqfYorA7Zxs4ZfmmEtj28d1IY6TZi3ClJyUBcbEutfyFWXH9udV3rYS7dEvdD15VXGtY9JjlKgK6e1SjpM6n2k+Rc3HpVM731A6d7vpjdlaOnfEmaVTV5te0z9s3lbTb6yeKuvm93ul0y6bRsFDPr/3+HreDda2SreLTddaHvdyu8Qtq3f9EiUsy4hXS78239ni1y8z7OU86aGPTX9yidvYZ/9uf7V0mN9yW9tnammB1RO0bp7h1rSC9r/yGz9xurrc7nW0tr1ne1vD3NvBmpazvDbvdCpbqOPTWm6f7V5J/LZN4v5KNv+Qy6bHQ8J8fPaDn5THBVHV0HPSrQpyzHYjlLhUd6jOnePRXMY6LF7hydmaesnuqXLXVs4tKLdut2BNJ4ce3LhFb4/yqZczXSxHYkoQfOeZdFkTJSxLee7nrDBTFeEuavcWLzud5PSa3RC2ZezxSCiR1yJ8fIZNmru1qjj89r82pHLlSv3E5VT92gL4zDuErI5nocvsd2LHbkIRvdCcbKJw50mY0p0wja9CHydB+9Hd+eTeYyVAceOGvZ+eqG6rgsAcfOtG4m1L7s5dfOg0mslz1U859bOXplH3ZtcNVlojk4A6xXRZxbFxFzDT3fIBTpOAV2UXspDFqqmCg30/bnzxstPZxcwVrNuvIGv5PLfe+d9vXg5Wg0SnOFuLdIHRl3iL6P2kusUp5D3klS1WDRXQ+RZl2/wSCPHHsq5zskSoT1G6q6uWKiiiKlDFrbIrQC8Qr2qDLefEtFPflX1PoraMrexpBjONiBIayZjuqi1VG8RCNGZLGRwkuGur96Cnnen2fUJvC3qpfPV5Vg6001k4TafdpDla+jak0nuCgZZH+u1H+7t+08OXSqTHTkRa9ahaogOzrC7+jbBS55j9bzNLRqdZweMnVY45oPGXxUroJUu4Jlu+1AmVlOeptkfwW2bpKi1xTpQBNScwK0/giF6RWKocgIcpivfeixwjiRENYt4i/MAcdkJX8dx81bCrKhLbKWmOybUOcqEfN9HdkMo0JvI03Frz8AjM6jQM/XyPD0/jK2GNbz6nI+vIYwG/lvHaCGz2O3hNEhGILatjGzZtCrptKbgaxOkqN9EY8nj1eTpfXJe0WLyCtxOWU6ri/GTXjuQPgiHKvJoVmGsbU+zpbVkdI7mVAZL79N6/HaoO0erSvcWmElitxTWg+ueE9KKn6xRfvGtue0torSvjTW+OGc6F3Nxa5g5OVl2m3mrmKvLU27WCg4XkaG8bBrieRLXo9HIWZedeaj3MxQo8cftQ67jnYvzEY31ax+s9+UG5+dqoPI+sJarbquwlFn6s22s2D6zQCxHiadFwspdY2N+nfEmDdTEJEdS0mC9ZUZ6R6qUc1nbwe8GH5lQq3JhLiwsrr9GNBtZQL6DQYkzr1hqPoBdgWNtSH6Jhtrv1+5r7ggErAaIJBO+6etczxt5PqXOQIY9NS8hpJnspSchjXG9ZTDi+go6BOMHVHqHo8vElFlTDJcReq2224W2ynWmhbmlIS8DtUnWa9xaViglzO1n5ePZdjb6VJWib8/isdAG3S4XC26UoIryxt1pzzERxTA7LeghMds3NzVglINqgz5OLs3LRmyqjFISIahNv7GUdM0WHadwXvUZ9IWnCQk6wXhOP9W3Q530JBhGRH+aYiYiIqhFzzERERBHGwExERBQhDMxEREQRwsBMREQUIQzMREREEcLATEREFCEMzERERBHCwExERBQhDMxEREQRwsBMREQUIQzMREREEcLATEREFCEMzERERBFSZW+X+uFHYN/3QNnciIiIou+AA4AGPwEOylBW1ht7Mx6Yv/4W+N/dwP/tMwOIiIhqoF80AH7ZCDj8Z2ZAJanS1z5u/BpYu51BmYiIaj6NZRrTNLZlUsYCsy741j2mh4iIqJbQ2JbJ4JyRomwtvtZUhWPPfmDLN3Zq40fWMRMRUQ1y4AF2MXbzQ4FD6puBok3TyinWrpI65tVFZcXXGpRXbQNObwGcehRQ/yB7OBERUU2w/wfg/S+AdzcD7XLKgrMG67bZ9ueKyHgds7a+dtcpa05Zg/KZLRmUiYio5tHYpTFMY5nGNIfGOo15la3SA7PeEuWmC645ZSIioppMY5k746m8Ma8yVHpg9t6nrHXKzCkTEVFNp7HM204qE8/myOjtUkRERJQeBmYiIqIIYWAmIiKKEAZmIiKiCGFgJiIiihAGZiIioghhYCYiIoqQSn8kpz6Cc+VW0yOWFAJ3dTc95bB61p14vMD0BMm9HA/2a2160rT2eQxdkINRI7si8MlqO5ZgwuSFKDK9ZRqj98ihOKeJ6Q2p6O0HMSF/p+kT3uW35rcNvSddjrZmUFpC/N5ahlW5Puu9E29OfhBf9hqLQW3MoJB0X83LHopRZ6Hc0yAiirK7FwFdW5oe0aFZ/POzyyPjz8rORGC2L/aNzZB4VoAp6pEYmDXgzlxvehK17W+CRorAbAdR+AdgE7DRM3j5vKyEhixv2fzsQDgPrmGBgXU9Hr/1eaw2fW6x9VEZD8y6HAtxpGebpBWYA/ZP3HoQEUVMVQTm2luU3UZyoZPGmk4DVGsMivWHvfjvxOpVOyVYBOSKm3TFqP6tUbRqvU9u2ocEzHkFshxxwbAxzhkpy7ejAKt3mEGB4tehbN2UBtQ7MfRW6fxy9xoI9TvTWTn2HQsxwTVs6KzghEzlMcs5E77rgpny3eQl4bYnEVEtVDfqmHfsxHYJCEUpA59XY7Rt1xirZz6IN/1+qzlTyfVlt2vtm9tOsGMbiprkoKnpLdMYRzbZiS/TXj43DfAmwI3skbg8cQmVgK681QHpWLvQLh3wzc1rwmMoekPGWWsGERHVMTUiMBflPxiX23N3cXW1AVbnaw5yJ+blB+QIYznHxACcfdZQCXS5+MjJjbq7yQU4SYJh2GJsSFDOluDselW1oUFZg7PpDaRFyN7l8C/aDubKWVtdQKIjGSuhUz5FRbK/shsnScjId/Lldh2PiKgOinwdc0XZdcSNJSeWixUSxOCtwwzT+KsSBdYxZ7sagCWtY06s27WZ6cSCrOY+/X7/PLa768SteS1E09h2sacTpn7Yqg9GfF1xtjXt4Drm4Lpthz3/j9qFr7cnIqoqbPxVQVYQ1DrdWICyA1NccPYNzPZ46eVElV8wTGQnFsrTKjtZYHYJ+L0136CGcrFtkDow29tVPniWO1zjLycBEZxwWN3EnXAhIoqOOhyYKxoYzcXf3dI5xnzn5FCrOMdcMcm2iyvQBQTmssDpyYnGje8ETvOdN0ha4xbgpP65+Ghm/DzCBWblmUeccIkbIqLqwByzj8BcX3klDczJAohLuvdRp0oMBOaYQ8pgjtnKLcNeX/dn57t0AnPC97ocVmttBmYiiibeLmVdwO/EhLcr2hBIc5ruBk9lnRVYAnPLrpbOAd2onhGsB9XbuHyCW/ZZPdC24Pn47alBXOuLewVtgzIa2K36cROI2/aTecj0HmcLaiKiShPxHLOds3I3BEo7x2zlwkxDpaD6TnfDqzjm+0zkmF0NpvwFFemGXKbQv/c+vcz+PnRu1pU7B3PMRFTLsSjbXMAr0kI3sF7VkbTYOCCAVJQGoGooyg6n/OucrCjbSlCFuLXNy27lHcFSCSKqk1iUXQnatmtt3QftX9wqQWjmQhTl5jKHlmHW/eA+VQGpOgZlIqprakSOufzFto7g1szJn80cdv5pvsyiQkXZIUQwx0xEVBuwKJvKh4GZiCgjGJiJiIgihHXMREREdQwDMxERUYQwMBMREUUIAzMREVGEMDATERFFCAMzERFRhFR6YD7gAPPBOFD69/9geoiIiGoojWUa09y8Ma8yVHpgbvAT88H4RQPg/S9MDxERUQ2lsUxjmps35lWGSg/MB8kU3Qve/FDg3c3APwqZcyYioppHY5fGMI1lGtMcGus05lW2Sn/yl/r6W2DtdtMj9GlgW74B/m8f8GNsbkRERNGnxdcahDUou5/y1aYpcPjPTE8FZPyRnI6NXwNb95geIiKiWqTZIcBxh5ueCqqyR3LqAuuCExER1SaVGZT9ZCwwK11wzep7K8uJiIhqGo1lGtMyGZRVxoqyvX74Edj3PVA2NyIioujTW6K09XUmGnqpKqtjJiIiotSqrI6ZiIiI0sfATEREFCEMzERERBHCwExERBQhDMxEREQRwsBMREQUIQzMREREEcLATEREFCEMzERERBHCwExERBQhDMxEREQRUiXPyt7z3ff4fPf/w79LvsOPfIkFERHVIAceAPy83sE4ptF/4ZCDf2KGVp4qf4mFBuWPv/4GDQ76CeofdCBk/YiIiGoMDZL7f/gR+374HicefmilB+cqf4mF5pQ1KP+UQZmIiGogjV0awzSWaUzLtIwHZi2+1pwyERFRTaaxTGNapmU8YmqdMnPKRERU02ksq4p2UszKEhERRQgDMxERUYQwMBMREUUIAzMREVGEMDATERFFCAMzERFRhDAwExERRQgDMxERUYQwMBMREUUIAzMREVGEMDATERFFSMZf+7h469fIql/P9GXCduTfOxF3F5reVFqeh9dv64ks01tRxYsn4vwXsvHoIwPQxgwjIqLaqXh/Cbo1O9z0VY4qfx9z5gNzeFYQ/fCkgMAcMsB7AjsDMxFR3VEVgZlF2TFN0fO2aVj2SFn3aFcZrIHYNWxZJea2I6d4Jea9MBdr/8/0p/Ljbmx+72XMeW8zSswgIiKqGAbmQLuxp1j+fP9dRoJOycpHcf51w3D34u1mSHXbjvzHZ+KexYtx7Yx86KqntOFlXDnzXUyZ+Rc8t8EMq2TR205ERJnFwBxk/3qsXCt/v1yPjbvtQcBqPC1BoourO/+FcgSM3e/ioafWo7hlTwzu2tQMrG6HocXRjZCFg9G7Y1tXqcB3kpGei4f+cjue+9QMcjRpid71gaysDuhwpBlWyep16I+7OgL5LzyKeVvNQCKiWqxOBebi/4tF2JS2vZ2P5w5uhA6/+Aqz395ohrbFVe5ibelevyzdwPodVs55GXO+a4AbLz0POZHZAwfjuEvG4fVHJuNPcYmFXVj59mLJEe9LLDnI6oY/TZNtMKE/2vzMDKt0DdChz3noKnn4e15ajL1mKBFRbVWnAnPJ/n3mU3Il/3oO9/+tGD0vuhET+7eV7NoTePrTcL9NafdS5H8gf39zDn7X0h5EKUgCoO8p8vfTN/G3f9mDiIhqqxraKjvNW6SC+Nw6VbJlLu6ZvBhbOw/Ag1e0hS75tsX34dpXgMEjb0Tv5g3sEY10W2Xb429H7/7j8KfOjcxQUZyPO0bNxxI0xV0TbsZxG57D06+sRr5kEbMaZqHneZfj6q7HoaEnKbV3y2LMeWUR8jftxubvZED9Buja6iT0vewCdMg62B7J8I6b1bARTu18BYZe1BoN5fu1zw3DtUvkQ9cBWCbr7ixrAme7xS3zHej53VyM/PNivI9G+NOd49C7mRlf/bgaTw97Ao/JfK+6bjIGt7OXraRoOeY8Nx/zzDLlNDoCffsNwBW5niZ2nz6B86etRlbPG/DkRceZgUREVYutsgMltqAuV+cOytrCePHDGHrPYhSf1h/3X2YHZZXT7UY80At4bPJEPLR4I/b+aL5I225sXKeBLgsdjnUF5TjfY3P+Q7hp5npsbdAIHSRiFu8txnMvPIxbXlofV5ysCYa8e+bisQ27sae+jNu4EVr8uA9LCt7FTX++B3MKNVLbSiSw3WLGReMWuOq0Fmhz4D7M++wr7DfjJKj/c3uaJr7nNLLn0eGw+MRJTPap6GmVAuxG/iebrUExG1Ziji5Ow044M9cEZVmmoX9+Dg9t2IeGR7fGVRKM6+/7Cg/9dWxiYy/5vqf82fjpZ9hmDyEiqpXqVFF2Uv/5Cu8vL8IJ/f+IBy7r4MmZNkCL8/6I2de2RvHKldj6HzM4bUXYbMWrI9CssTXAR7HkHo/A5MmT8ei4cXhA/r58yRFWAmLt4vl436kmL3wOf37hKxm7Aa4aeCdenyzjyvjPTrsTk0+RwPldMaY8M98Esd1YuXA1tC1bh/NuxrN33ozB/W7GxEn34PXLj0N9a5xEWZ1vkGneiKuOsPt/d409jwf+cHpcKUOZpuh8uj3yypWr4gLoxrUbrZbex53SFsfpttUGcH/VZWqKEX8ah0dvvhaDr79Tlq0n9C61/BdmYom7SUD9bLTQbfbldhSXO2FERBR9DMyOn7XGFRIgbuxsopCPhm2uwF0jr8BxroZOWd3ukNx32IeL7EOJtl5qfFhAYFMNcMVlMg8tW7YcjJwel2CwFci/wspP7Wi1dvlyK9BmnXIJru7omtqBWTi17znorZ+3rsRKqyVzA9QzmdzNG1Zhc6wF1cHIat7CKsauLA1zO6Gvfti6Hmuce65+XI+VH2gdfRb6nt7aGlS88l0rB53V9Tz0dVcPND4JZ1q57q+w5rOyHL+1DtaCFmFr2PusiYhqoNoTmL/bLjnKmZhyzxhcOdR1S9Ow23HTPX/Bc4tXp5/T0uLtFXqr0BhcO8w1zaEjcdOY+/DQguXYVp5mwg1/FismT3QcTjjafIxpgRbH2p++/lYD3HZs/cLuP7P1sYnTatTa3L60G8X/1r8Ho8P551m3NhX/azGuHDkMV05+AksKw7dSD61hJ3TtqB+24x8Fpjh6k11XjpadcGq2PWhbkf1d8ZInyrar1ZW1Hdi6e5f9gYioDqkVgdlqsDVyIh5b9zOc2m84Hp3iqkeefBfu6ncqsPwZnH/zfViy0/wolZ3vYsqoMRj59i4c1+ta3D/ZNc1p4zDxhp5o8eV8XPunMem32N77bfKHliTslWIU7zAfPer9JKC+16txT/zpL3fi0cvaoqfkPDf/azXuuFcSHM+truQHqByMEzq0tkoElhSst25v2vjJaugNZ71P75RQUtCieWvc2K2Db9e5Wch1IyKqRWpBYN6Mvz2yGBs79MfkGy/GqUdmoaG7MfLBDZB1ZCermPqB3K9wx/S5IRoP7caS2S9jzqE98eBtA9DzN0fET/PABmiY3Ra9/zAOj/Y6GI/9dSZWBragcjPFsTt3WfWt/r7CVm/iYf9mbNhif2zVTO8xbopmOXb/yk2f2R/cvi3E2i/1QyNk/dwaYjswC226DcBdksh482bJvcqgtUuew5yKtm73qKfF2bq9Pl2FNXs32sXYB7dGzw5lDd6ymtghenOTtuh7WX9c4dP1buVpIPe9/peFrMoseyciipiaH5iL5cL/f8CpJ3ZIUjysGqDF0RLUtiYLio5CbP4U6HrySSkfAJJz9BFWQ6viUEXa2WjRQv/6BN+YYjz3+rtlxe4/7sbaV17C06ZF86mmSPu4jm2hNw1tXDgTT691FUn/WIz3X5iLOfq55ek41bplabfV+MrdmrzhscdZv7fqvUNmmdds8rS0DnJgW5x6huZ2N2Pl35bat3ydeBJOcLUyyzk+10oYYMVcPLXCs0ckmM97aXH8ftpfiI2a2GgsiZKg1mpERLVAzQ/MWcehwy+A9z9emaJIdh82b9oONEvW8MrREi1+Ayz58CNsS1EvvW3TV5IbDJuLa4TjjtccbzHWbgqq35Vc9b9exvk3346bxozBTbeOwbVLtKi8AQYP7GO3aBb1fnMFbummj9Dch8ceGoPzR8q4Mv6Vw8ZipOZQf3EcJg9wbgeTdZ//MM7Raf7lUcnhT5TpSkCXb7KyJHibYO9PAuFR9qf3//YXXDlK5vNQ6mdpH3eSnXBYuXIjNsqyX3G6J+GU3Qc39pHtJsv29IyxseW/adRI+fww7tnkbvglNq1HvvzJat0SprCAiKhWqgVF2S3wu4GdkLViJkY+9DLe/7IYe93X9O/2ofjL5XjuHrnoFxyBiUP6hLiwN0LXvIvR95t8DL33CeR/+hX27ndN9Md92Fu0GvP+R4Lmgu8w+Pr+6BAyF5f1m9ZWTnHO8pUBj5dshL7D/ojJHRuh+JvdWCkjtWjWGnf96Q5c9Rt3nWsDtLnsTjx5/elWq+Z6e2XcnXo/cxb6nncFXh51A06N3ZJ1GFq0b4GuDb/H5g3r8XTBdmw9sKmM1x9Pjrs4FuyDtLngWoxo1cDabpuLd6O4QaPAW6xiWp6KvjL/jXslkdC4E878lRnu0qLXnxKWf/P+Bjj1tPPw6KBurgTUd1i5fLUkBiTAd2xrhhER1U419MlfPrRV9tI3kb/8M6zcaj9FylK/ATpkN8WpnbqjZ9e2yEonKaKtslcuwrylK7Fm826sdeqRDz4YHQ5tiuO6SFA5rRNy0qrz3IeVMyTnuqIBbrztv3GF81hO71O0Umfr647di3HPrXMxz+dJbUREVakqnvxVewJzTSJB+O4/z0f+ET3x8h/NiywYmAPsw9qZd+Pa9xCfkCEiqgZ8JGdtldUTt/RrgazCfDy2xPPoSYpTsnIm7nhvH3pedjODMhHVCQzM1aThKTfj9Uem4a5u6b42sm6p1+FabiciqlMYmImIiCKEgTkqsnpiovVkMdYvExHVZQzMREREEcLATEREFCEMzERERBHCwExERBQhDMxEREQRwsBMREQUIQzMREREEcLATEREFCEMzERERBHCwExERBQhDMxEREQRUgsC82o8fd0wdIl1T2Ct+cZRvHgiujy32vSF9OkT6HJvPoq9n33Zy/D0p6bXLeVvMyPpOld0mfT3PtuZiIgqrmYH5uJ83CEBAsP05Q+mGwZcGzpobEf+vWVB/Y7FVf1uZG+iIqCr4sC+9jn3/BmAiYiqUo0OzGvz5wOX3YGrfmMGqN8MwOuXFUlwLgsu57/gH3DXPjcRdx81wAT1O3DmhxNDBuf4gK7B6zEZ+tg097CJyE8ZTdviKidBEdC9fln53kO8rUjW44vtaQZ0e72uhbNNdP66LcOsCxERVYYaHJi3Y+sXQKvsxMCVlXsSurY8z3rBfnBwW42VS5rirp5tTX9T9Dy/LZZ8uDpEMJNxb4sPoIlddb6+UddN/hR+hJXpBNRP5+PuwrZ49Apnm8i27HYHHu26HXfnp1kVQERE5VJ7G38VfoVt5qOv4u3Y0PIkdHAHzyZHoGuq33lZ9a2unHK6ddlhHNUU4WO85nolB99Vcr3DsnH3qPBF0cVFRUDXDmhj+h1t2kmgTjv3TURE5VGDA3NTNDsK2KBFth7FBR9hScsjkGP6fe34CpqpjJPVFK1QhK0hI5DVwGoa8Kgrp/woqqexl02Dsime11xvrFg/XHDW4u+u2dmmz8VKsMzH+U7iYxpzz0REmVKjc8xtep4HvDAxvjW05GCtOmVXIAmqY07JmYZvIFqNeS8Ad00YEJfDbHPFHbgL8zHPr4V2ClagL29QtxrCTcQ/Tr7DDsqGFkUvm3AEZst6+LYaD8tVNbBsWNn0iYioctXsouysnpj4yADA3ehKguhgdytt6XzrmDUXaD7GaPE2stHMKTd2gpFfIPKOG+OTk3clEioUHJOxtsU0TOzms67mu1gjOclJL7utZ0LxeE52UyzR4mwvv9IFIiLKiFpQx5zYsjmulXYQLbb2No7SAJSqCNwRWOzt0yjNldsMtWwugcXLQaycsyuhEtglFm9n6XyWrEwYvnbVanQ9uW0a9dxERFRetSAw27f4pH8Pclt0iGttLNN5PZ0A1Ba9L0NC4yrrFiych95pBuAgba4IyAUHMbljK5fvLn62ugEYLDn6uybYn72NvPCb83BXy9W41lWcrsXr1y5pi7x0loGIiMqtFgTm8rPqg79wWlXb9bPpBEGr/tZ6oElZTtS6B9inmLhmsG8De/QoV/38hydJcPcJ4kRElBEHlArzGR27dMOKZYtNX+VYvPVrZNWvZ/oywW6JnG5QTUlvg3r9CLyuQdb92Xwdmu9v9Ylf9kNJ0tMWj4YNkoHznY+cCRW8x1qnbbVGZ8AmorqleH8JujU73PRVDm/srdM55uqT+olf/h0DIRFRbVdrcsx3F5reQGnkNlVGc8yZo3XCYW8P09br6TZGszDHTER1VFXkmGtBYM6QGhqYqwQDMxHVUQzMREREEcI6ZiIiojqGgZmIiChCGJiJiIgihIGZiIgoQhiYiYiIIoSBmYiIKEIYmImIiCKEgZmIiChCGJiJiIgihIGZiIgoQhiYiYiIIoSBmYiIKEIyHpgPPACIvSWDiIiohtJYpjEt0zIemH9e72Ds/+FH00dERFQzaSzTmJZpGQ/MxzT6L+z74Xv8R1aIOWciIqppNHZpDNNYpjEt0zL+Pma157vv8fnu/4d/l3yHHxmdiYioBtHia80pa1A+5OCfmKGVxxt7qyQwExERkT9v7GWrbCIioghhYCYiIooQBmYiIqIIYWAmIiKKEAZmIiKiCGFgJiIiihAGZiIioghhYCYiIooQBmYiIqIIYWAmIiKKEAZmIiKiCGFgJiIiihAGZiIioghhYCYiIooQBmYiIqIIqZL3MRfs3ICH1z6DD3auwv4fS8xQIiKKunlTzIe6rH491OvQDll/+D1+dnwrM7DyVPn7mDUo9198C97Z/iGDMhER1Tz7S1Dy3ofYdt0t+HbdBjMwczIemDWnzIBMREQ1ngTo4v95xvRkTsaLstu92JuBmapGq0n4sH07HGJ645SswqRXbsWTphenPI5PWx5lesrs2fEYTl70Mq7p/gqGYLb1magu8y3KzpuEln2KUHip98sROHJhNvb0uBXfmCEY8ziO+V3iufbjysdQOORlHDr9FfxCzjX9XCPUr4dj3p1neipHlRdlMyhTldlwK05+vid+k9AtwOdmlJgPBpnvHsPyki8wx4wbNhCPPzcfn15ud/NOMQM9Uo6jiYPLH8d40+vQRMGnF03CNabfookOM62E74iibNwgfH5yT+kew749X2C39bln6EDc+MV8HPOh3R05xgz0oQH+mIWTcKjpV9Yw81vv74Om6x5+zIsjzFAXyTVnGltlU93W6mQcX+8otLMC5wjMM8Hv1iYNra/9aODsiwV2YP9kFZq0TAyuGnT7/lRy6YHjXIwnf+nJRZjgO+Snu7DHDLLJuMe3w45CO/Ew5z/tMKT7xeY7omrSoldZAIt1vVDPfJ0g72TUP+Qo/NQKgpKzNr/J6hB8rmlgbSTnmhXYp67CT373OBqb72I09y7T+UXWLvxoBjkOzmqIkr/ZCQHtvhxnvpBcfKOsVShOmO4IHFz8WGz83eiFltOr/lxjYKY6bfwx7YCSvTjml5oLnYLeJuc8acdeM4bXxThDkuTLPzdFeJJLz9/tBPYy1/zXYdjzzYd20fmGD7Gu5DD80t2Y85ReOP6bVfE5eZPjP/nzXWaA4yg0rvcFVn1g940u/gKH/DSxaJCoSm02ATOuW4Cg/GTjPnKu7dmLemdqrnYKvjS/KV4ZfK797Dhg31xzrs2+FXs3O4HdRYYXynQK53rPG7UXPyQUl0nAb3YYftz4oV3cPvtD7N9zGA7O054p2OrKyX9XHLRsmcXATLVAWU7Xv5OUfb12uFU/n+sUTUku9KJ8K+d78isXYdI3v8KtoYqINUjuwv+6GmZ+/p+9aPJf8anqJ//fLhxy6Mn29DRXjn/hndhvZHlbAvmLikx/Kl9gZ0lZ8B+fdRQ+L+Y9LFTNQueYL0azhflWzrewx0Uo3vgrZHmKnP0dhYMO2YXvZpteoYHyJ83C5mAvtnLMDYabZXMVS3+zdRcOPO5kexk0Jy/n57eu+Tj0999vrfq6bwZmqgXKcropuzfsgHZN9zx0+s+CWP+Ti0xwjgXuCvpgkD09TQy0Pwz5roZn48/tBRQOwmjTn9rLuOaVBUBLO6HR8z+PobfJPRNVC5NLTcwxS+du+CUOnZ6HBsWSuzYNxb4ZYoKzX/1tpXoZW3s4y/UY9mW5iqXHDbKXQQP28MOw17PMFlPcvccp/q5CDMxUu7gbSTmdT7DVQOwEZYd7mH6uSItsbfilrbrtBMF6tLv8FTzZyq6fTjuwWuvUGqtM4mI68nzXiSjzyuqGU3Ym8GogdoKywz1MP2e+RbYE6X98gQOz7CogbeClLcHtoL0eP/3wFTSzirJtVgOwE9YnJDKqCgMz1R4awNr/Cus+ceWQpZv0n9OSBjJ36+lkwdymxcrx9cXH/LQhdvw/94VlBNo1+gL5scA+BXN2AMf/8gH0bdIQhzQZbObTC8fgKPQ1QTvINb/8FbBjQSyH/eSipfi8UevEBmdEGVdWNxzrpq7Cj3tMQyp3l3ArlafFsyeAJ/oCP8Tqfm2VU7Q8Aj9t8QX2xhIDU7BnJVD/dDs3rcv40zX+y19VGJip9jj0MAlgs3GN58E8yQKZk4N1B3InmH/o2/L5ZbwjSehOx5iLiSQGekoQthpmacLAqqe264R7xn6vDcY0eN/kKXLX27j0Vq2LEpbZzaqvbtKrbPlPaY1jSnYl3gJGFGHawrqhq8Wz0xUXnxbQ8vllfLsRaNDHnGt5k9BQAup/tGhZW2KHqqd2XIxmZx6FkjUabDXgH4WGsXlqIzMT8HUeWFDWeruaZDww1z8wsPE8UeX6ZhfQJC8h93lN99NwzO71adTpJvfkotlY/tNedq7XyqF764vtOuEdsZzxYBz/TQXqhbW+esdhkrM2ufmWwBz3w1KIaqlvhsy26oatnPXwX2H/1EHYab5LzV3sPhj1Nz5mAq7WPS/A9x0GJ353zGE40NuozZsAqJ/5mJbxJ39du3i09ZxsoiphFWd7nv61u6yRlx8tyu7byPQYzhPAiOq6lC+x0NzrQOD/QtTHajFxoxamx3CeAFZT1Ot8Mo6cWrkVSd7Ym/HA7LzEgk8AIyKqefh2KRfJLec8cn+lv2Gqyh/Jmdu4FWZ2ux9nND2ZxdpERFTz6GsfJaeciaDsp0rex0xERET+qjzHTEREROExMBMREUUIAzMREVGEMDATERFFCAMzERFRhDAwExERRQgDMxERUYQwMBMREUUIAzMREVGEMDATERFFCAMzERFRhDAwExERRQgDMxERUYQwMBMREUUIAzMREVGEZPx9zFu3bjWfiIiIar5mzZqZT5XDG3szHpiJiIgomDf2siibiIgoQhiYiYiIIoSBmYiIKEIYmImIiCKEgZmIiChCGJiJiIgihIGZiIgoQhiYiYiIIoSBmYiIKEIYmImIiCKEgZmIiChCGJiJiIgihIGZiIgoQhiYiYiIIoSBmYiIKEIYmImIiCKEgZmIiChCGJiJiIgihIGZiIgoQg4oFeYzOnbphhXLFpu+qrQej99agI6TLkdbMyTB2ucxdOZ60wNk9xyKUWc1xupZd2JFu7HoXfQg5mUPxaA2ZoSQit42v4NMf1UuHuzX2nyTATuWYEJ+Y4yqwDxiy+usp05z8kIUWT2N0btnY8zLN9upSQ+MGtkVkN/MwOXW9krO2Q89UDT5eaD/UJzTxHyVYCfenCzLssP0epl5Z5te7/4r0xqDdL/reswEBrp/E6PzWojskfHHR8K2cOi8KnFfBs4npLR+H9sOsh+DzomAbRV+Pro9E/ev/t7/ONHj4nmsNn3Ivbxs2ybbb7IfJhTJcRA3PZnW5J3o7bufK4HvPCu+D72Cprd61oMokmtT8vMm4NxKeg7otO/E4wWmx2jbf2ylrRNVH2/s/Yn5WwXiT+70Dij5rRywgyaNNRcp++B+M3do6JM74aB2glZSaQYf7wXM4b6QhaAn/YT8nXZPwjx8uMeRC9M8z/zsoO2SECQloI9MdjEJksbv2sgyTbI/Oomp5PvfZ1veeqf5YB8/vc3nignYZ8JJ/KXid8G0hNjv4bZFZfBZz8l3Yp75GLw99XcLceRIWUazn3WZh87yX7e4Y9eyHkPzzUfrOA3YnhqUYglMH2meQ+nw239RC3jWMkqi6cFJ7m2g+0aGMzjXPppjdpzU+UzzqbLtKF1w35jS/1ljekvXlf7PH739z5WuMn2JvN/r9B4oXbC9tHTVM/Z0tr31gGt6iZzxvGK/W/Nc6Y3PrLMHxpTNJ8H2f5SOv+8fpdtMbyCZ7vi3dtif9TcJ84iny3Oja7q63O7+hPX0LodrPazfynbWLrYMCXQdnW3rbOck6x0TZhw/9r5PWJ6w29MlcJ/77ssQAn6X6tgq438cJ/t9wnEZ2w6eaemymX2Z2NnjhV9Of/r7hP3iPn5jXMuW9n6T36a5n9PZn97zxeG/bfQY9js3Ao5RF52P3/ernglz3nj3n6vz3Tb+x5WlvMe6H1mdi0aVlr5nejPhvedKS8dX0uLWJt7YWzV1zGsXYl725a5UXWsM6t8aq1f5FW360fFhpQ6HWt2D+Kjd5eXI4VW91at24qTc1Lku204ZH+jdvyyH3LafFvMWYHVQrj2Jtv3GSgp7LEb1TDb/nfgSOWhq+tKzE/Mk12XvE2/nnwtdPet5bO/ZA03zn8eb3nXasRAT9LezXMeF5qRc0318rRmeSsHzrmWJ70JPI0qsEgd7fyZ2SaqAPKzcbtz28N9PFRU3n8lLgnPClUmOlXkFjeXcketNmH1srkuJpSJyvRnZA5Drk/9yr8cKyWEXBX6fipY0+exHmad/yVhrdMyV3LH7vLDIsJnr0bZdZkoSqPpUSVF2UdFOZGd7Dv4mOciW4XpgJy2mdbiKQisuvlivrQT9jNALRVEuBoZOQEiQ3NEYHePGb4wjm9gBsKzY0XxwWAFtoXyw65jtoGR/larIt+jthdguf+3fK7kImE/JNcY5cnE5x/QF1086TLUAemBUP0l4ZG+TC/ad+NJdDOcttreKNwtwks7H2iYhi+7KeazocYoCSQTJNggb6OLs2CnbUo5pSXC0DbXPZVw5AbbrfCWYxKoXZDsE8Ra7plXkuvb5xOJQ3cZywW9riomL8h+0ip5j022Ti6Yz7WojJyGsiavVuZLQtnsTeItdreLtyUhdJVMRsWNFlzPkcaLXIPMxHdY503MoBhXJMf9261DVHfHiz+c4AfteE9mDrMSOGWCk2v9Fi4EcOcGfle5KOczeGw+01GHO6S502Kly6B0w2+5/ZTRwkSzGnG7A+88DnU0ixxmm3MPH58l/8tvuOh0dIPPpO02mo5+F+3dxPONZy2E+13VVWMdcXknqeeUg7l2uM10bHI21PlmNOKxPlU2We6ZcKPp76sGdoOkNQkmV1eUmLG+Trhg1Kb6u/JyzzAdDL/7+1mNevkw7luPSC5pfZWk8b3AoY1/U45i6QW0Uo7mTWD2hBs+RejF9EG/qutlD4xRJkERPd8mIXdIyVEta2tjTWT1TLlbyN2x9cDC7tCJbLuor5ILTNmywc9HlbZprN747x1Mf6rucO9bjI9m3Vs5spAYyHSbbZKb9tZfu+/jAqvvLbL8wCQHZ5oNWeS/u9rHlSNyOeq6Y0iozJHl9r+Ym9Tdl32efdTl6r5JgvkOOd13OWEJSx/PJ7WsbiHQa71ltJrQNylAzLZ3uULlu3IkJRUmOiyatcZIE1wlve8eR7TpZlk+2hff8tBIZsmxaV54tW6RIjt/Hs9NIHHkStOmwSsDM57RoAB0GlJpVnC1BepsEQV03K8BKV3q5dDKOBsqRJkBqUO8sf0ul38073JqG/H3P7sUEmcaJEqznmN03W/onNJWEmfSfKvNxgq+O11fmOSdg99RlVRKYNbdctEpzBa49sGMbirJzQwSm+ANZg4K7sczqWQvxpf0xQ9JP3SoNRB+1kxPee8FMelGzc8fxOS6/XHQKenF3tf7OPkuWw/rkZjegg6S4080dlucC4fubuESFfB5pPqYhLseQ0KgtmfigUPT281b1yKjc9ZJYkCCSRvGwRbb5DLlgDxzZGkfqxXpt/MXaL2ezOn8hmvYai44SLOet7Zri4u5Uc7iPndbo3XMhZhTslMRYuKubvR+cfR8yoFvbyk7IVoq0EqW2hBI3N98Skvjrhp4DiTl8e5zsgJzoKM/+KAvKzrLr7+0EwONIHZyDE7Q+rOtE4+BMiY/AxKksV55rcJ4ER8epufJfwDJla/2WfOct1ZwhaZZnJaA6NNiOl1y20qA9WuZX6jpM886W3LhMRwOzW0tZpkJPWCBb1eSY20jOdoH7YiUp0pl6y0RQgErNfZC3bWf/rXzxJ7eemKlvO9JcjB3wvCd2ao2tdZkwcwnampPfrpN1cgIBrGK8xBatcRebuASBvYw63fSXMZ7vxSYo8RGwnDGeC3Z2rlw1TOt7O4DocbNeLpquK4tbeas7JKA7uSArgdBfAvzkJWkED81h2cWoOr7e1pUyJ+sUK+v2l/Wel6TkwGaOjbjcuJZ4QOYb4srml2hxJzhln40Kt7IpaH2orNus9bFjQBM98yDbN53EpYtVxZBSkpI1IyhwhU1oanB/0FMa5VwjwvCbT6privv6U2lcxdaWoGuA7L5tkrvO0aAri7dNgrFziGhQDXKRt8GKjHuRTMcb4PNkehNk2gfIZy0O9wbuOs00ArNkrlW2sls6Oq0P41tIJml1GJO8FXCqFqnuFsruZYj9LkTrRt9Wq25Wy9kk6xGiVbbS+cSW0zN+qvVMzd4P/tNw9kPYVtlBLVMTlzuloNa9OtzZFp7lDtwW6bRU1XH95uuaRvJtrtvMZ1tZy20fCwm/d30X48wvth38zwnvcRxqe1RYkuMhYL/FLWfc97JeftvbLZ3955XwW//tWCFJli9cq+yy5dF9lvSaYin/OmxbVFqK50yPksXGVBlueq1+5/skrbLd0xkv4zzrXmTX7xLmp9zzCJAwzTrGG3trzgNGQqSIUzWE8KMpVutBAZ4HjKRf7BQiuecpYi6P2PL6rKf/MgfU4/ly9kOYB4wk22dh9qeHbpskD1fwE7gtNHfo2pcVlWybh5HW72PbIckDRgKEmY+OE3+fcTz/XGW6Rd/JaOmC+wEjqc9rt8DiWkfCvvc7Fis4zwodXzrvsofl6P4IVwqX5vlkOI2/tA7Zr9+pH7b6TWMsp445juay37JzzYXu3winIZjVeMtMQ+uYnRyw1jEXnp08RxxmnNosIfZa4dnIbI45mTApworlmIPEfleRVHpYmruo4DwC1zNo+dOap7MfIpRjTiLtbVFO5T22HGn9PkWOOZnKWE7/3FuY4yEsWa8093NaqjnHnFp8jjmc8q+DXw72WckxQ3Ko2o2X79zf633GOvwi+Z31WzOedu6cdNw0ZFNojjf2vclBu7/3o79xxtH51WXMMXvEchk19ZGcLv65oUzlmG1p1TEnU9k55iSNwNI9TpJt8zDS+n2Gc8zJ6O/9c2+pzr2yuwZS8+aYK4seuynuyS5HozNfKY6v5Ln68mzLFOtWWetVXppLng087KqDpvR4Y29EAjMREdVEWgw9JzfgXmUKxRt7+XYpIiIKTeuUD9DW1Ka7simDcmVjYCYiotD0vmV9uEisM43AqPIwMBMREUUIAzMREVGEMDATERFFCAMzERFRhDAwh6T3eMa/x1a7BxPfKRzI/15Ene6Et4OfxJQ+vU808f23+lKNsMsaWya9XzPhHbBERJRJ1X4fsza9nxymub151Jvv4+IqyPuYOi8rUBX18HlohgbbhTgyycMVAh/taR4KgICHOiR/JKjnIQT6UIrAl0PY42bnP4iinn7LqesQ/yCL2IMmshcGPnTFb/nK84CX6mUnlvSFI6mWO/gYqNusc0eOA/cLDrxSnV91hnWeOu+MNsPSFn/M6nmoD5VJ/kjPDAh8LGnqayIlitwDRmp7YC6TGABVLAiGPrH0yUF6YqZ34GuOuXICs/3kIuuVlnHLbF8wrDdWpXGR8Ab4qAb35IHZ3iZf9goZ4N1PZ0v51CZ7uzolLd6nSsVNz/3ENU9izbtd3ds95fOnzbnnvNBeBb783ke1B2Z9zrOsa8L8dbj7LUvCecuRPjTjStdu0jckJUt8ePeTLZ0nohka8BbkhH6SV0UCc4WCeg0KzNbxp6//NrzHrr7hSv7FWM/8Np+rCh8wUg7W+4w1SCUUZYc/AIveXign7XrM8ym2LpLcrE7vcX2heUXoyRJbtnSK2dOwdqGczH4JidYYNFKOeH3pvxmSnJ7Ass6SAHhw0ljTDcWRqxKL4WsHDd764n4J7rH1la7XNkxIuKCXKXq7QI4xZ/zL0VSOldhxIvvbel2l2Xa9i6TfHF+r87ehtzMP2S/bZ5YdDxrMy7a7Z5peGrwkSOkL7d33rp4ogbZWkMSKe73cL1HQdw7Hvgv1uEn7vdWxfTsyFx/pPq/UqipKhyawrBId1z4eKcfu+/qlHtsakSUx5t7Pi6o2b+qrSgKzpkhmy0boK3+tp8VIhs+P5p77ykbRjek8VWa295g2G9NvOpoyin3n81vr3Z9OF7AMVu5AvtflcLPexeo+6awuTFA2F+T8xnLSDsVJqyQIe+qANcei06tQTlGD8kyUXRisi0KI4LxjJ7bLMhbJeJqC1qCe7O1DlcV5z3R8irsxzulXllNwlsfuXMFLc4Pa706IOHXhOsyzfXU6enHUgDR01hJrf9jT08SBexvZiYXY/HRanjp29zLZwcyehj77ePVMGe5Tv6/0ncSao7Zffu+ahhUgc7Ei4HfZZ13uOsb0XcfAdvN+4tWSCGrby9lesu16tUaRSRi17ecqmWnSGic12YkvrfXcKb8Devd0tntr+dzYmlYCPRckR6k5CPeL9tUok/u0zjn3ueQ+P6WzLoCG+4lRE1yzi3uSlJz7znbwux64p+c+353xEq4X1alJV8n5SmI1XxPlwjlurS/jj6XY8anP4N6xUMYzx5f5zZv6nTXMe8wq+xpjT8v1nVVq4j6u7JKdN+Wc1/G1xMTOFAQvUxnPuWGGBrKW24zvLINn/ZV9Tvoce+7fSxdLODrTcJ37QQkfPT70qWTeRJU+IEVzxBPk2NbEV9wbreQ4HxWBp5hVWY75yreAh02qZLxsZPeJ6faKFjk4KRj5e6WcbO6TsbMWSZnpPCspn1gAlelpcYVeRJyUzxzXb/Wk/VjOEee378kwb/BVE2Q8fWWZVdThvvCn7PwOVnPRlhym5kza6sVTcj+j2hUkHKDBnJPJ9AawLtL93RfjrhjYE/iowDlod2KeOXnduaOiAtmgcuHX8awXuUtQHyUX6kBtesTlzMrIuk6WHdCudYicxXqsKGiMk3KD52Pl6iR3aecGpesPT6M2mZ8WpVnfu3KLbXLRdkcBVse2l85Lgo+Tw9f17a+/ia9SsLezRALrO+0kWHpfVFDwPFa0s7/XbbR6gS6P5pJk/rINtbj4Qd8iSAmG6GHqBO1qAHseTmJMlq/dNtcyB5GLd5Gz3ezPR7oThk1ykL1jmyS0vDQoS1C35qWfGyPb9bvsbJmeBPuybWsrkuPkFflN6GI92VxaNOycg9vkfIuRaS2SRIUzfLRcD5z5LZLOOS+flc83uM5L9/XgPVmWzk4iQM93V07oYRkUV/QcFVaiSI5B1zmn4kst5HiS49NK/PeXKKHVG7FjQ63HR2Zcv8R7kQT+2HHbv7Gc56muLfZ1aJDsDztTYJ8L8ctkZyLsa0WIcyOOXGsWAAOtcWU+2ZLQ0OCbsC28icQyRQXbcJJTUiTbZPVM9zq5zn0r4SMJF59zZ5EcH+NlHX3J4oyWw7578CWoWlVZYH5WTi7ngtVdDq6PA4rCtPw/ljqX/fWsfF7kOgbec9UT5Z0tJ65sfD3BZ8uJrvVDsYuI/G6kzMf6rXRXyp+HXSmhU/WiYX7rcIJ3LAXVpuzESd15L/TKFG156mHs3Lc9vlVMnnYdT/yFNRyt77KX1X3Cz5OcfG85uJs6qfqU9KS2iz8TEia56dSVJ1sHXS45Yfu7gpwmCGSHlQUv2bax7erOLWqu0skdirXym1wJ1qYXuT38Szm0iF6CZ+/YtpHp60XSTdbP2XbZMk3/IOhHI4ZuF7koSWJjoM82ys7NkdyA6QmgQX1etrP8rnV0NGkMySB42BfV7T172NvAKiHx0IBuPnpd5J6grEas1EvOFW8gf18vhK5zMFvOt9j5KNvNOa+y5fNFMq1CuzeW+1bdPRdS9/XgVP1OFj52vsv57yy3zkuvFWmTIOHkurVzZwI0U+AM90vEhyPHuc/GDUoM+XMlLH1k93SVquh54pMQSM2cc7Eg2Rht2zW2S2fCnBtx5JriOnfbyrGXLQni1e5pqh2a4JBz0+d8jCsp0sS2+WhznftxpUGJWiY7JuTYDjruq1u11DG3TLx6BEo6rmz0i8xH5d0J+ttYAsC7E2TcE10XBz1BvcHbYRW3xAUhd5c6N+stlvF2QUUx/vwPwraSU41LVco8Z8iJlixXqsXJsHLZWpy50/c2q2Am0eF0SU9UP3JRSrrdvIFbL3DBJ6A7uFjbwhTNWiUJ0h+KXCxDn6i+QTBT7GJEK7fuSozE5ZaVN+iaYj/N6cQSTH7LLQmMoP3+inuCMok5mkMdFn/eOQpl3KQXQoeee+ajchdJuxvpJJDfJTvfy0WCjZNb185dOuCuYw7b0C2RT8mGkkS/XXIm14C0zrtU/BMC4ZSVqlnXpXxddnNtSufc8HIdc5qgddqhWKV1gSVs9jFvL0uyEoDk61uY7NJqEnlRFPnGX0lPdtnor7gCrncn6G9PdI4I706QcT+W6bY0vXqCvifj5jhFZS7+9ct2p8VBoZjiKe/vkxYb+9KA6JM719y9Fvc6B3OK2zKcYqtYDlDWUYuc5qWd0i4PO1dbVszuxxu4Ay5wDg0uzsXDKm7XFLpdjN0xltJPwZODiV2UKkz3sU5LlkW28QyfhJgW3WmVQiK9QGmreb9iTE9CRbeBJFCsQ16Dsr7X2bcdRPy2tdbT58Jr5WzleHDnIlNJeiH0oUHZarFtAmBc8XcKCed7mvOuElZuMyhXaF9XrABdac8LSHGeJOVJbGvnJAQrcm5ogtE5Lpt0Re9sLfmyi7H9Mw56zGvDWmc5/EojU9PSl9ES+33Jao2XVVgUxWNGRC4wa52ScyGwKu/lr7seYLKrSEkr7506BGsnSH/sIiIbfLJcVLrrcWV2grvu6n1Nmctv3BcjbRSg9dYJjcqS5JiD7zUup4R6bW1YFJ+SLes8Kcm4ovfkDdOsi4KniF3rmP3qsGx2g5Gy+bpTtNJpnVOBp0GG01DDTMFNi7eQ/6CntEDmMcuut9XAPW+mKyeRcIFzt3CXZZH5l+WMtchsJ1bMKigrwk3Fqpt2J0y0aM+9bBUhy4OFVn1d236mAaDZTnYdnsxrVY7vxbusVMPLLr6367mVbLsFTmMw+TxTEmbuqoAYLR2BrJsTCLxFmC5y3ml1UGdPEW8Q7zmo52+q32ni2V1crvWCYVjzctVT67xkMTPOaZAWip7LM3fGV8n4SK9YO5HWMTvnmDYyjJ0nmlN1tbewvgsqcbLOOTmP/BIIaZ8bcu7Gji89FuVi68oZa3H2R7LMH8WqZTyskh9JKDrfaXWU+ZgOrd7Q9kze67nuQz0uB8olSKsr4hoMyucJYfdvBv3E/I0MrVNaJGdYZ9OvDUncB3Vf6bTIS1n3o5nrie4EyXMgx3V2uu9HGyWfrVbZpqjMey+bI2+YXCx0PNlh7vsWU97rWVms4Go+R4rdYOQc0xdK4EVAaIvVSY0luEuQksBgMw9DkU/ZmkjQ1tSScrYk3O/bGidBEwL2WWXtH1eiQovMtudLcApdIiG5hZE9MEETH06/NjqRVH1qdpAcqq2yA+5L1oRQR23xukr2r3s7WgkxbU1/ecJv9CpRJFdrq7W3GWJx5iHHyqBVZduobBtoTlpyJLIu86xvDHOfs9bf9Z6siQN7sDZaC0rEWa/4k2usc845tJhXl9cdTBLOQdn021IUAev0T3Sdl+MDE4bxdF7vSVB35qXnc9I6Zr1Au9bBOv81QeA33CyzXrQ1Y+DQ60lydmI1xiol89uvGiTd97NrTtUcM1ras0C+k31q3XsesF/csnvmYIUm8qw+17Tkc++eC61jWo8DrYvu3cRsaKGJ43l6HOTrbyTxJ4lG93HhnI/nNEn33JDfSa5YE/AWPe7c104J9E1n2glOX1bDVd0GZlvmti5Xjlnpdb+laSvgsO5V1w+yn0vlGNBrfWw/6zErx3Z1q/YHjLhpSibUw0aqWPxJlChl0NacY+CTuUL8vhIEP2Akka5vqid/VStre+p9ukmKuJyi3JAPavAT2w6VuG8SjqWAQE7p04R3d1dinKJKEzCJD1uqyyL35C+3qAZmipgQgVnvx9TGUsFF8ylY86jo4xOpqui1Q0vZ6vxjP2uATCR4azo++YtqN1NH727YFo6nznzyQjRN87GnVHXcLbm167wd2MagHG2a2JVzS59W53fLIJWJVI6ZiIiormGOmYiIKMIYmImIiCKEgZmIiChCGJiJiIgihIGZiIgoQhiYawDr1hDzEB3r8zT5a/cSEVEtUyWB2f2ic+2cZ836Pnd2pwyTcYKesWtNyycwacAKmlZs3qkCmnn0oHc53fTpQimfleuZb9C7p5X1mFDThXnJuz6K0PvibyIiqj2qLMfsfoXaiQvtIGS9E1k+u4OwvlziRPd7lX3oq9/cL6Tw4+Qs+7rmW3o2MCMoSGpQdr3kXTt9LrebTvNjfWhFQfIAry+YH+lMR9Yl7uUaLprIcF4Cr+Pps3lTPfSfiIhqt2opytbXOFqvaJO/+vaa2BujZNjk7cDAFI9m7itBzAnuvmT4DfK9BlnnJesWma7zsnZfsizuBEGe59Gg+uabvpKY0ICd7HVhmquNTUfmJ4uRSH4/R/7E1lX+6kP4FyXJXSt3sbbFk8t3Ars1njPcNb5TSuEuxXAnBnxz8PLXXQLAxAMRUeZUfWD2BCR3rtnKLUuuNkwx7SjNYUpO1C/nqjnWVzxBNiUNoPK7wGJqs9z6Ckp95dyVsqyhSOAc7bcsMj33u6RVS+n/WBImoXly+bF32crwHElEbDPD35NB7vXSV2s6OfX3ZNk6m8Adl4OXzknUTHCXPMj3naWfddxERJlRZYFZi2mtHJf8jQu+Tq5ZgoM3t+zOvSXU08p470kgCyrSdr/j1SsuN+kKMvqKsL4S0HS4N0C7398c5gXysWWX6fk9WL/IJwBrYE7H+zJtfYWZE/SdnPrst2S4axufKsv9imt++mo7J+jqd5DvdBv4JQx0W2nCIlbyoAkYSVQUml4iIqpc1VLH3F2LhF2Bz8o1S6BzAp9DA6XzG78iaOtdrhIw/Yq03YHIy2pA5Uzb05BK38esw60A7SoCXqS5aQlQFpOYSFbsHFt2WScN0N5lzPYJwvrS+HTo+Fot4EfrtWOJD/nsBN8E8nuts1e6PX0TJrLusWlJJ//sqggiIqp01VLH7M3BaXDoq50T+NLgFGm7c3BhcrSpaIDWom1rGlocLX9iuX7pOst3oyVnmrJIV3P2sjy+gcwTLDXQnphmrjkoQLoTQn4JkCDuhIlTSqE57LhpSRdXd09ERJWmWgKzFsEmK2pOiynS7uyu85WgoTnazhJA44KzBJqgW5e0yDYuV2uCsbKKhl11r06nRbp+jcBmu3Ob8v1kCeJOzlbrca1lkOV+Vv7EWonL3yvlT6qGb25a1+1u8a3roJ+tOnAZnjLRkIRTrK2JHG0D4Fcq4Xu7GxERVUjV1zFrblP653haPFeEFsFKnIyjw7QxlAZnZ75a3xvUKluLtwtdy+g0qjpVAtIc6br7/K67BC2/RmAtJaDFpiPT1IZTfjnMPAn2H8t8YvMLmat16DK711EbfLU0wzWxkuMsg3TJ7qV2uFtqx/aRLPccLZVwbxtXET8REVUuvo+ZiIioGvF9zERERBHGwExERBQhDMxEREQRwsBMREQUIQzMREREEcLATEREFCEMzERERBHCwExERBQhDMxEREQRwsBMREQUIQzMREREEcLATEREFCEMzERERBHCwExERBQhDMxEREQRwsBMREQUIQzMREREEcLATEREFCEMzERERBHCwExERBQhDMxEREQREheY69evj2+/3Wf6iIiIKJM05mrsdYsLzJ1OPglvLMg3fURERJRJGnM19rrFBeZB1/TH1Iem4+VXXmPOmYiIKEM0xmqs1ZirsdftgFJhPlv+uWEjHn9yJpZ/+BH2799vhhIREVFl0eJrzSlrUP51q+PMUFtCYCYiIqLqw1bZREREEcLATEREFCEMzERERJEB/H8k3WCr6IeyGwAAAABJRU5ErkJggg==)"
      ],
      "metadata": {
        "id": "f8drnKf3r9EE"
      }
    }
  ]
}